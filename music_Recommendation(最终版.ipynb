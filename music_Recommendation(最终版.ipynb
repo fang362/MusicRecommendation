{
 "cells": [
  {
   "cell_type": "markdown",
   "id": "fc1899ea",
   "metadata": {},
   "source": [
    "## 推荐系统\n",
    "- 基于商品相似性的推荐\n",
    "- 基于SVD矩阵分解的推荐"
   ]
  },
  {
   "cell_type": "code",
   "execution_count": 1,
   "id": "925b8e21",
   "metadata": {},
   "outputs": [],
   "source": [
    "import pandas as pd\n",
    "import numpy as np\n",
    "import time\n",
    "import sqlite3\n",
    "\n",
    "data_home='./'"
   ]
  },
  {
   "cell_type": "markdown",
   "id": "74388158",
   "metadata": {},
   "source": [
    "## 数据读取\n",
    "在数据中需要：用户，歌曲，播放量"
   ]
  },
  {
   "cell_type": "code",
   "execution_count": 2,
   "id": "a699099f",
   "metadata": {},
   "outputs": [],
   "source": [
    "RawDataset=pd.read_csv(filepath_or_buffer=data_home+'train_triplets.txt',\n",
    "                    sep='\\t',header=None,\n",
    "                   names=['user','song','play_count'])"
   ]
  },
  {
   "cell_type": "code",
   "execution_count": 3,
   "id": "16c73733",
   "metadata": {
    "scrolled": true
   },
   "outputs": [
    {
     "data": {
      "text/html": [
       "<div>\n",
       "<style scoped>\n",
       "    .dataframe tbody tr th:only-of-type {\n",
       "        vertical-align: middle;\n",
       "    }\n",
       "\n",
       "    .dataframe tbody tr th {\n",
       "        vertical-align: top;\n",
       "    }\n",
       "\n",
       "    .dataframe thead th {\n",
       "        text-align: right;\n",
       "    }\n",
       "</style>\n",
       "<table border=\"1\" class=\"dataframe\">\n",
       "  <thead>\n",
       "    <tr style=\"text-align: right;\">\n",
       "      <th></th>\n",
       "      <th>user</th>\n",
       "      <th>song</th>\n",
       "      <th>play_count</th>\n",
       "    </tr>\n",
       "  </thead>\n",
       "  <tbody>\n",
       "    <tr>\n",
       "      <th>0</th>\n",
       "      <td>b80344d063b5ccb3212f76538f3d9e43d87dca9e</td>\n",
       "      <td>SOAKIMP12A8C130995</td>\n",
       "      <td>1</td>\n",
       "    </tr>\n",
       "    <tr>\n",
       "      <th>1</th>\n",
       "      <td>b80344d063b5ccb3212f76538f3d9e43d87dca9e</td>\n",
       "      <td>SOAPDEY12A81C210A9</td>\n",
       "      <td>1</td>\n",
       "    </tr>\n",
       "    <tr>\n",
       "      <th>2</th>\n",
       "      <td>b80344d063b5ccb3212f76538f3d9e43d87dca9e</td>\n",
       "      <td>SOBBMDR12A8C13253B</td>\n",
       "      <td>2</td>\n",
       "    </tr>\n",
       "    <tr>\n",
       "      <th>3</th>\n",
       "      <td>b80344d063b5ccb3212f76538f3d9e43d87dca9e</td>\n",
       "      <td>SOBFNSP12AF72A0E22</td>\n",
       "      <td>1</td>\n",
       "    </tr>\n",
       "    <tr>\n",
       "      <th>4</th>\n",
       "      <td>b80344d063b5ccb3212f76538f3d9e43d87dca9e</td>\n",
       "      <td>SOBFOVM12A58A7D494</td>\n",
       "      <td>1</td>\n",
       "    </tr>\n",
       "    <tr>\n",
       "      <th>5</th>\n",
       "      <td>b80344d063b5ccb3212f76538f3d9e43d87dca9e</td>\n",
       "      <td>SOBNZDC12A6D4FC103</td>\n",
       "      <td>1</td>\n",
       "    </tr>\n",
       "    <tr>\n",
       "      <th>6</th>\n",
       "      <td>b80344d063b5ccb3212f76538f3d9e43d87dca9e</td>\n",
       "      <td>SOBSUJE12A6D4F8CF5</td>\n",
       "      <td>2</td>\n",
       "    </tr>\n",
       "    <tr>\n",
       "      <th>7</th>\n",
       "      <td>b80344d063b5ccb3212f76538f3d9e43d87dca9e</td>\n",
       "      <td>SOBVFZR12A6D4F8AE3</td>\n",
       "      <td>1</td>\n",
       "    </tr>\n",
       "    <tr>\n",
       "      <th>8</th>\n",
       "      <td>b80344d063b5ccb3212f76538f3d9e43d87dca9e</td>\n",
       "      <td>SOBXALG12A8C13C108</td>\n",
       "      <td>1</td>\n",
       "    </tr>\n",
       "    <tr>\n",
       "      <th>9</th>\n",
       "      <td>b80344d063b5ccb3212f76538f3d9e43d87dca9e</td>\n",
       "      <td>SOBXHDL12A81C204C0</td>\n",
       "      <td>1</td>\n",
       "    </tr>\n",
       "  </tbody>\n",
       "</table>\n",
       "</div>"
      ],
      "text/plain": [
       "                                       user                song  play_count\n",
       "0  b80344d063b5ccb3212f76538f3d9e43d87dca9e  SOAKIMP12A8C130995           1\n",
       "1  b80344d063b5ccb3212f76538f3d9e43d87dca9e  SOAPDEY12A81C210A9           1\n",
       "2  b80344d063b5ccb3212f76538f3d9e43d87dca9e  SOBBMDR12A8C13253B           2\n",
       "3  b80344d063b5ccb3212f76538f3d9e43d87dca9e  SOBFNSP12AF72A0E22           1\n",
       "4  b80344d063b5ccb3212f76538f3d9e43d87dca9e  SOBFOVM12A58A7D494           1\n",
       "5  b80344d063b5ccb3212f76538f3d9e43d87dca9e  SOBNZDC12A6D4FC103           1\n",
       "6  b80344d063b5ccb3212f76538f3d9e43d87dca9e  SOBSUJE12A6D4F8CF5           2\n",
       "7  b80344d063b5ccb3212f76538f3d9e43d87dca9e  SOBVFZR12A6D4F8AE3           1\n",
       "8  b80344d063b5ccb3212f76538f3d9e43d87dca9e  SOBXALG12A8C13C108           1\n",
       "9  b80344d063b5ccb3212f76538f3d9e43d87dca9e  SOBXHDL12A81C204C0           1"
      ]
     },
     "execution_count": 3,
     "metadata": {},
     "output_type": "execute_result"
    }
   ],
   "source": [
    "RawDataset.head(10)"
   ]
  },
  {
   "cell_type": "code",
   "execution_count": 4,
   "id": "60e9f513",
   "metadata": {},
   "outputs": [
    {
     "data": {
      "text/plain": [
       "(48373586, 3)"
      ]
     },
     "execution_count": 4,
     "metadata": {},
     "output_type": "execute_result"
    }
   ],
   "source": [
    "RawDataset.shape"
   ]
  },
  {
   "cell_type": "code",
   "execution_count": 5,
   "id": "749a62c8",
   "metadata": {},
   "outputs": [
    {
     "name": "stdout",
     "output_type": "stream",
     "text": [
      "<class 'pandas.core.frame.DataFrame'>\n",
      "RangeIndex: 48373586 entries, 0 to 48373585\n",
      "Data columns (total 3 columns):\n",
      " #   Column      Dtype \n",
      "---  ------      ----- \n",
      " 0   user        object\n",
      " 1   song        object\n",
      " 2   play_count  int64 \n",
      "dtypes: int64(1), object(2)\n",
      "memory usage: 1.1+ GB\n"
     ]
    }
   ],
   "source": [
    "RawDataset.info()"
   ]
  },
  {
   "cell_type": "markdown",
   "id": "7803f342",
   "metadata": {},
   "source": [
    "## 统计每个用户的播放总量\n"
   ]
  },
  {
   "cell_type": "code",
   "execution_count": 6,
   "id": "f0605afc",
   "metadata": {},
   "outputs": [],
   "source": [
    "UserPlayDict={}\n",
    "with open(data_home+'train_triplets.txt') as f:\n",
    "    for line_number,line in enumerate(f):\n",
    "        user=line.split('\\t')[0] #遍历每一行的第一个元素为用户名\n",
    "        play_count=int(line.split('\\t')[2])\n",
    "        if user in UserPlayDict:\n",
    "            play_count +=UserPlayDict[user] #已存在此用户的信息时，只更新 播放次数\n",
    "            UserPlayDict.update({user:play_count})\n",
    "        UserPlayDict.update({user:play_count})# 如果遍历出来的用户不在字典里，则更新一组键值对\n",
    "    UserPlayList=[{'user':k,'play_count':v} for k,v in UserPlayDict.items()] #把字典里的弄到数组里？\n",
    "    UserPlayDf=pd.DataFrame(UserPlayList) #将数组转换成df形式\n",
    "    UserPlayDfSort=UserPlayDf.sort_values(by='play_count',ascending=False) #按照播放次数的大小排序\n",
    "        "
   ]
  },
  {
   "cell_type": "code",
   "execution_count": 7,
   "id": "d2c32f83",
   "metadata": {},
   "outputs": [],
   "source": [
    "UserPlayDfSort.to_csv(path_or_buf='UserPlayDfSort.csv',index=False) #存入本地"
   ]
  },
  {
   "cell_type": "code",
   "execution_count": 8,
   "id": "4394ecb5",
   "metadata": {},
   "outputs": [
    {
     "data": {
      "text/html": [
       "<div>\n",
       "<style scoped>\n",
       "    .dataframe tbody tr th:only-of-type {\n",
       "        vertical-align: middle;\n",
       "    }\n",
       "\n",
       "    .dataframe tbody tr th {\n",
       "        vertical-align: top;\n",
       "    }\n",
       "\n",
       "    .dataframe thead th {\n",
       "        text-align: right;\n",
       "    }\n",
       "</style>\n",
       "<table border=\"1\" class=\"dataframe\">\n",
       "  <thead>\n",
       "    <tr style=\"text-align: right;\">\n",
       "      <th></th>\n",
       "      <th>user</th>\n",
       "      <th>play_count</th>\n",
       "    </tr>\n",
       "  </thead>\n",
       "  <tbody>\n",
       "    <tr>\n",
       "      <th>669980</th>\n",
       "      <td>093cb74eb3c517c5179ae24caf0ebec51b24d2a2</td>\n",
       "      <td>13132</td>\n",
       "    </tr>\n",
       "    <tr>\n",
       "      <th>402687</th>\n",
       "      <td>119b7c88d58d0c6eb051365c103da5caf817bea6</td>\n",
       "      <td>9884</td>\n",
       "    </tr>\n",
       "    <tr>\n",
       "      <th>964856</th>\n",
       "      <td>3fa44653315697f42410a30cb766a4eb102080bb</td>\n",
       "      <td>8210</td>\n",
       "    </tr>\n",
       "    <tr>\n",
       "      <th>462404</th>\n",
       "      <td>a2679496cd0af9779a92a13ff7c6af5c81ea8c7b</td>\n",
       "      <td>7015</td>\n",
       "    </tr>\n",
       "    <tr>\n",
       "      <th>991089</th>\n",
       "      <td>d7d2d888ae04d16e994d6964214a1de81392ee04</td>\n",
       "      <td>6494</td>\n",
       "    </tr>\n",
       "  </tbody>\n",
       "</table>\n",
       "</div>"
      ],
      "text/plain": [
       "                                            user  play_count\n",
       "669980  093cb74eb3c517c5179ae24caf0ebec51b24d2a2       13132\n",
       "402687  119b7c88d58d0c6eb051365c103da5caf817bea6        9884\n",
       "964856  3fa44653315697f42410a30cb766a4eb102080bb        8210\n",
       "462404  a2679496cd0af9779a92a13ff7c6af5c81ea8c7b        7015\n",
       "991089  d7d2d888ae04d16e994d6964214a1de81392ee04        6494"
      ]
     },
     "execution_count": 8,
     "metadata": {},
     "output_type": "execute_result"
    }
   ],
   "source": [
    "UserPlayDfSort.head()"
   ]
  },
  {
   "cell_type": "markdown",
   "id": "df0a6f02",
   "metadata": {},
   "source": [
    "## 统计每一首歌的播放总量"
   ]
  },
  {
   "cell_type": "code",
   "execution_count": null,
   "id": "7f475e08",
   "metadata": {},
   "outputs": [],
   "source": [
    "# 与统计每个用户的总播放量 方法一样，直接copy\n",
    "SongPlayDict={}\n",
    "with open(data_home+'train_triplets.txt') as f:\n",
    "    for line_number,line in enumerate(f):\n",
    "        song=line.split('\\t')[1] #遍历每一行的第一个元素为用户名\n",
    "        play_count=int(line.split('\\t')[2])\n",
    "        if song in SongPlayDict:\n",
    "            play_count +=SongPlayDict[song] #已存在此用户的信息时，只更新 播放次数\n",
    "            SongPlayDict.update({song:play_count})\n",
    "        SongPlayDict.update({song:play_count})# 如果遍历出来的用户不在字典里，则更新一组键值对\n",
    "    SongPlayList=[{'song':k,'play_count':v} for k,v in SongPlayDict.items()] #把字典里的弄到数组里？\n",
    "    SongPlayDf=pd.DataFrame(SongPlayList) #将数组转换成df形式\n",
    "    SongPlayDfSort= SongPlayDf.sort_values(by='play_count',ascending=False) #按照播放次数的大小排序\n",
    "SongPlayDfSort.to_csv(path_or_buf='SongPlayDfSort.csv',index=False) #存入本地"
   ]
  },
  {
   "cell_type": "code",
   "execution_count": null,
   "id": "8967e305",
   "metadata": {},
   "outputs": [],
   "source": [
    "SongPlayDfSort.head()"
   ]
  },
  {
   "cell_type": "markdown",
   "id": "eeb60ccf",
   "metadata": {},
   "source": [
    "## 去掉惰性用户（只听一两次歌的人）\n",
    "注意要分别命名每个用户和每个歌曲的总播放量，否则下面会出现混淆，得出90%的比例"
   ]
  },
  {
   "cell_type": "code",
   "execution_count": null,
   "id": "cf5a14ef",
   "metadata": {},
   "outputs": [],
   "source": [
    "TotalPlayCount=sum(SongPlayDfSort.play_count)\n",
    "print(  float(  UserPlayDfSort.head(n=100000).play_count.sum()  /  TotalPlayCount ) *100 )\n",
    "# 取前10万个用户的总播放次数 除 歌曲的总播放次数 ->得出占比40%"
   ]
  },
  {
   "cell_type": "code",
   "execution_count": null,
   "id": "6161abb4",
   "metadata": {},
   "outputs": [],
   "source": [
    "float(SongPlayDfSort.head(30000).play_count.sum()/TotalPlayCount)*100\n",
    "#取前3万首歌的总播放量 除 歌曲总播放量 - >得出占比78%"
   ]
  },
  {
   "cell_type": "code",
   "execution_count": null,
   "id": "1433a3c1",
   "metadata": {},
   "outputs": [],
   "source": [
    "# 经过人工分析，我们可取10w个用户，三万首歌\n",
    "UserPlayDfSort_10w=UserPlayDfSort.head(100000)\n",
    "SongPlayDfSort_3w=SongPlayDfSort.head(30000)\n",
    "User10w = list(UserPlayDfSort_10w.user)\n",
    "Song3w = list(SongPlayDfSort_3w.song)\n",
    "\n",
    "## 记住！命名注意关键词！！！ 不要叫 list，会覆盖掉内置的"
   ]
  },
  {
   "cell_type": "code",
   "execution_count": null,
   "id": "ada8749b",
   "metadata": {
    "scrolled": false
   },
   "outputs": [],
   "source": [
    "UserPlayDfSort_10w.shape"
   ]
  },
  {
   "cell_type": "markdown",
   "id": "db0c6783",
   "metadata": {},
   "source": [
    "## 过滤掉不符合逻辑的情况\n",
    "- 比如 前10w个用户中听的歌 不包含在新的歌曲列表中\n",
    "- 同样 前3w首被播放的歌 不存在于新的用户列表中"
   ]
  },
  {
   "cell_type": "code",
   "execution_count": null,
   "id": "6c96b416",
   "metadata": {},
   "outputs": [],
   "source": [
    "RawDataset.head(10)"
   ]
  },
  {
   "cell_type": "code",
   "execution_count": null,
   "id": "2d703f60",
   "metadata": {},
   "outputs": [],
   "source": [
    "# f_user.shape\n",
    "RawDataset.shape"
   ]
  },
  {
   "cell_type": "code",
   "execution_count": null,
   "id": "ac660dad",
   "metadata": {},
   "outputs": [],
   "source": [
    "FilterDataset=RawDataset[RawDataset.user.isin(User10w)]# 去掉不在前10w用户列表中的其他数据\n",
    "SecFilterDataset=FilterDataset[FilterDataset.song.isin(Song3w)]#去掉经处理过的 且不在前3w歌曲列表中的其他数据\n",
    "# 保存在本地\n",
    "SecFilterDataset.to_csv(path_or_buf=data_home+'User10w_Song3w.csv',index=False)"
   ]
  },
  {
   "cell_type": "markdown",
   "id": "aafd77c6",
   "metadata": {},
   "source": [
    "过滤后的数据"
   ]
  },
  {
   "cell_type": "code",
   "execution_count": null,
   "id": "80a4c495",
   "metadata": {},
   "outputs": [],
   "source": [
    "SecFilterDataset.shape "
   ]
  },
  {
   "cell_type": "code",
   "execution_count": null,
   "id": "f8fd14b1",
   "metadata": {},
   "outputs": [],
   "source": [
    "SecFilterDataset.head()"
   ]
  },
  {
   "cell_type": "markdown",
   "id": "bd97a95c",
   "metadata": {},
   "source": [
    "## 加入音乐详细信息\n",
    "- 把db数据库信息读入（注意！只需要前3w首（还是经过其他不合理筛选的））\n",
    "- 转换成df格式\n",
    "- 与现有数据表合并在一起"
   ]
  },
  {
   "cell_type": "code",
   "execution_count": null,
   "id": "1dbb4a03",
   "metadata": {},
   "outputs": [],
   "source": [
    "conn = sqlite3.connect(data_home+'track_metadata.db')\n",
    "cur = conn.cursor()\n",
    "cur.execute(\"SELECT name FROM sqlite_master WHERE type='table'\")\n",
    "cur.fetchall()"
   ]
  },
  {
   "cell_type": "code",
   "execution_count": null,
   "id": "be9cd1ba",
   "metadata": {},
   "outputs": [],
   "source": [
    "AllMsg = pd.read_sql(con=conn, sql='select * from songs')\n",
    "Song3wMsg= AllMsg[AllMsg.song_id.isin(Song3w)]# 筛选出前3万歌曲的全部详细信息"
   ]
  },
  {
   "cell_type": "code",
   "execution_count": null,
   "id": "7b8d8e61",
   "metadata": {},
   "outputs": [],
   "source": [
    "Song3wMsg.to_csv(path_or_buf=data_home+'Song3wMsg.csv', index=False)"
   ]
  },
  {
   "cell_type": "code",
   "execution_count": null,
   "id": "82d3cefe",
   "metadata": {},
   "outputs": [],
   "source": [
    "Song3wMsg.shape"
   ]
  },
  {
   "cell_type": "markdown",
   "id": "cfd64b12",
   "metadata": {},
   "source": [
    "## 我们现有的数据\n"
   ]
  },
  {
   "cell_type": "code",
   "execution_count": null,
   "id": "b70653e7",
   "metadata": {
    "scrolled": true
   },
   "outputs": [],
   "source": [
    "Song3wMsg.head(5) #经过筛选的含有详细信息的歌曲数据"
   ]
  },
  {
   "cell_type": "markdown",
   "id": "17a2fcb5",
   "metadata": {},
   "source": [
    "### 去掉不需要的、重复的信息（列）"
   ]
  },
  {
   "cell_type": "code",
   "execution_count": null,
   "id": "efd93dc9",
   "metadata": {
    "scrolled": true
   },
   "outputs": [],
   "source": [
    "del(Song3wMsg['track_id'])\n",
    "del(Song3wMsg['artist_mbid'])\n",
    "#去掉重复的行信息\n",
    "Song3wMsg=Song3wMsg.drop_duplicates(['song_id'])\n",
    "Song3wMsg.head()"
   ]
  },
  {
   "cell_type": "code",
   "execution_count": null,
   "id": "c653051f",
   "metadata": {},
   "outputs": [],
   "source": [
    "Song3wMsg.shape #经去重处理后，变成没有重复的3w首歌曲"
   ]
  },
  {
   "cell_type": "markdown",
   "id": "869431fd",
   "metadata": {},
   "source": [
    "## merge操作\n",
    "- 通过观察，得到下面这个表的song_id列与原来的new_dataset表的song列是对应的\n",
    "- 进行merge操作"
   ]
  },
  {
   "cell_type": "code",
   "execution_count": null,
   "id": "c76c1e11",
   "metadata": {},
   "outputs": [],
   "source": [
    "MergedAllMsg3w=pd.merge(SecFilterDataset,Song3wMsg,\n",
    "                           how='left',left_on='song',right_on='song_id')\n",
    "MergedAllMsg3w.info()"
   ]
  },
  {
   "cell_type": "code",
   "execution_count": null,
   "id": "f7dab5aa",
   "metadata": {
    "scrolled": false
   },
   "outputs": [],
   "source": [
    "MergedAllMsg3w.rename(columns={'play_count':'listen_count'},inplace=True)\n",
    "# 把play_count改成listen_count.无关紧要的操作\n",
    "MergedAllMsg3w.head()"
   ]
  },
  {
   "cell_type": "markdown",
   "id": "7bcc01f0",
   "metadata": {},
   "source": [
    "### 删除其他无关紧要的信息（列）"
   ]
  },
  {
   "cell_type": "code",
   "execution_count": null,
   "id": "fe756607",
   "metadata": {},
   "outputs": [],
   "source": [
    "# 去掉不需要的指标\n",
    "del(MergedAllMsg3w['song_id'])\n",
    "del(MergedAllMsg3w['artist_id'])\n",
    "del(MergedAllMsg3w['duration'])\n",
    "del(MergedAllMsg3w['artist_familiarity'])\n",
    "del(MergedAllMsg3w['artist_hotttnesss'])\n",
    "del(MergedAllMsg3w['track_7digitalid'])\n",
    "del(MergedAllMsg3w['shs_perf'])\n",
    "del(MergedAllMsg3w['shs_work'])\n",
    "MergedAllMsg3w.info()"
   ]
  },
  {
   "cell_type": "markdown",
   "id": "139bc18d",
   "metadata": {},
   "source": [
    "## 可视化(●'◡'●)\n",
    "- 最流行的音乐\n",
    "- 最受欢迎的歌手"
   ]
  },
  {
   "cell_type": "code",
   "execution_count": null,
   "id": "bb9d33f1",
   "metadata": {},
   "outputs": [],
   "source": [
    "popular_songs=MergedAllMsg3w[['title','listen_count']].groupby('title').sum().reset_index()\n",
    "# 将歌曲以歌名分组，按照被播放的次数重新排序\n",
    "popular_songs.head()"
   ]
  },
  {
   "cell_type": "markdown",
   "id": "806bf26a",
   "metadata": {},
   "source": [
    "注意下面有个报错（上面也发生过）\n",
    "- TypeError: 'list' object is not callable\n",
    "- 可能是由于自己写的东西覆盖了，目前通过.tolist()方式解决"
   ]
  },
  {
   "cell_type": "code",
   "execution_count": null,
   "id": "f8035cf1",
   "metadata": {
    "scrolled": false
   },
   "outputs": [],
   "source": [
    "top20_songs=popular_songs.sort_values('listen_count',ascending=False).head(20)\n",
    "# print(top20_songs)\n",
    "\n",
    "import matplotlib.pyplot as plt\n",
    "import numpy as np\n",
    "\n",
    "objects=(top20_songs['title']).tolist()\n",
    "y_num=np.arange(len(objects))\n",
    "# performance=list(top20_songs['listen_count'])\n",
    "performance=top20_songs['listen_count'].tolist()\n",
    "\n",
    "plt.bar(y_num,performance,align='center',alpha=0.5)\n",
    "plt.xticks(y_num,objects,rotation='vertical')\n",
    "plt.ylabel('Count')\n",
    "plt.title('Top20 popular songs')\n",
    "\n",
    "plt.show()"
   ]
  },
  {
   "cell_type": "markdown",
   "id": "0e7e2bbf",
   "metadata": {},
   "source": [
    "最受欢迎的歌手"
   ]
  },
  {
   "cell_type": "code",
   "execution_count": null,
   "id": "69d1d870",
   "metadata": {},
   "outputs": [],
   "source": [
    "#按歌手来统计其播放总量\n",
    "popular_artist = MergedAllMsg3w[['artist_name','listen_count']].groupby('artist_name').sum().reset_index()\n",
    "#排序\n",
    "popular_artist_top_20 = popular_artist.sort_values('listen_count', ascending=False).head(n=20)\n",
    "\n",
    "objects = (popular_artist_top_20['artist_name']).tolist()\n",
    "y_pos = np.arange(len(objects))\n",
    "performance = popular_artist_top_20['listen_count'].tolist()\n",
    "#绘图 \n",
    "plt.bar(y_pos, performance, align='center', alpha=0.5)\n",
    "plt.xticks(y_pos, objects, rotation='vertical')\n",
    "plt.ylabel('Item count')\n",
    "plt.title('Most popular Artists')\n",
    " \n",
    "plt.show()"
   ]
  },
  {
   "cell_type": "markdown",
   "id": "7a6780df",
   "metadata": {},
   "source": [
    "### 用户播放量的分布"
   ]
  },
  {
   "cell_type": "code",
   "execution_count": null,
   "id": "9bf4bfa1",
   "metadata": {},
   "outputs": [],
   "source": [
    "user_count_distribution = MergedAllMsg3w[['user','title']].groupby('user').count().reset_index().sort_values(\n",
    "by='title',ascending = False)\n",
    "user_count_distribution.title.describe()"
   ]
  },
  {
   "cell_type": "code",
   "execution_count": null,
   "id": "9eb5896c",
   "metadata": {},
   "outputs": [],
   "source": [
    "x = user_count_distribution.title\n",
    "n, bins, patches = plt.hist(x, 50, facecolor='green', alpha=0.75)\n",
    "plt.xlabel('Play Counts')\n",
    "plt.ylabel('Num of Users')\n",
    "plt.title(r'$\\mathrm{Histogram\\ of\\ User\\ Play\\ Count\\ Distribution}\\ $')\n",
    "plt.grid(True)\n",
    "plt.show()"
   ]
  },
  {
   "cell_type": "markdown",
   "id": "d8046a5f",
   "metadata": {},
   "source": [
    "# 推荐系统"
   ]
  },
  {
   "cell_type": "markdown",
   "id": "1944b019",
   "metadata": {},
   "source": [
    "## 1、基于物品的协同过滤"
   ]
  },
  {
   "cell_type": "code",
   "execution_count": null,
   "id": "d5457ffb",
   "metadata": {},
   "outputs": [],
   "source": [
    "import Recommenders as Recommenders\n",
    "from sklearn.model_selection import train_test_split"
   ]
  },
  {
   "cell_type": "markdown",
   "id": "657841a3",
   "metadata": {},
   "source": [
    "### 简单暴力，排行榜 榜单推荐\n",
    "\n",
    "（没看）"
   ]
  },
  {
   "cell_type": "code",
   "execution_count": null,
   "id": "d93dc344",
   "metadata": {},
   "outputs": [],
   "source": [
    "MergedAllMsg3w_set=MergedAllMsg3w\n",
    "train_data,test_data=train_test_split(MergedAllMsg3w_set,test_size = 0.40, random_state=0)\n",
    "train_data.head()"
   ]
  },
  {
   "cell_type": "code",
   "execution_count": null,
   "id": "0d383ee6",
   "metadata": {},
   "outputs": [],
   "source": [
    "# 把点击量当成得分值\n",
    "def create_popularity_recommendation(train_data, user_id, item_id):\n",
    "    #根据指定的特征来统计其播放情况，可以选择歌曲名，专辑名，歌手名\n",
    "    train_data_grouped = train_data.groupby([item_id]).agg({user_id: 'count'}).reset_index()\n",
    "    #为了直观展示，我们用得分来表示其结果\n",
    "    train_data_grouped.rename(columns = {user_id: 'score'},inplace=True)\n",
    "    \n",
    "    #排行榜单需要排序\n",
    "    train_data_sort = train_data_grouped.sort_values(['score', item_id], ascending = [0,1])\n",
    "    \n",
    "    #加入一项排行等级，表示其推荐的优先级\n",
    "    train_data_sort['Rank'] = train_data_sort['score'].rank(ascending=0, method='first')\n",
    "        \n",
    "    #返回指定个数的推荐结果\n",
    "    popularity_recommendations = train_data_sort.head(20)\n",
    "    return popularity_recommendations"
   ]
  },
  {
   "cell_type": "code",
   "execution_count": null,
   "id": "ebc8037f",
   "metadata": {},
   "outputs": [],
   "source": [
    "recommendations = create_popularity_recommendation(MergedAllMsg3w_set,'user','title')"
   ]
  },
  {
   "cell_type": "code",
   "execution_count": null,
   "id": "135a5eaf",
   "metadata": {
    "scrolled": true
   },
   "outputs": [],
   "source": [
    "recommendations"
   ]
  },
  {
   "cell_type": "markdown",
   "id": "9a5cca8c",
   "metadata": {},
   "source": [
    "## 基于歌曲相似度的推荐\n",
    "选5000的样本容量来实验"
   ]
  },
  {
   "cell_type": "code",
   "execution_count": null,
   "id": "b376bbf1",
   "metadata": {},
   "outputs": [],
   "source": [
    "# SongPlayDfSort.info()\n",
    "# AllMsg.info()\n",
    "MergedAllMsg3w.info()"
   ]
  },
  {
   "cell_type": "code",
   "execution_count": null,
   "id": "8bd1deb3",
   "metadata": {},
   "outputs": [],
   "source": [
    "#取5000样本\n",
    "Song5k=SongPlayDfSort.head(5000)\n",
    "\n",
    "Song5kList =list(Song5k.song)# 转换成数组\n",
    "MergedAllMsg5k=MergedAllMsg3w_set[MergedAllMsg3w_set.song.isin(Song5kList)]"
   ]
  },
  {
   "cell_type": "code",
   "execution_count": null,
   "id": "e936780b",
   "metadata": {},
   "outputs": [],
   "source": [
    "Song5k.info()"
   ]
  },
  {
   "cell_type": "code",
   "execution_count": null,
   "id": "f8097e8c",
   "metadata": {
    "scrolled": true
   },
   "outputs": [],
   "source": [
    "MergedAllMsg5k.info()"
   ]
  },
  {
   "cell_type": "markdown",
   "id": "bccd2f6d",
   "metadata": {},
   "source": [
    "## 计算相似度得到推荐结果"
   ]
  },
  {
   "cell_type": "code",
   "execution_count": null,
   "id": "93368aef",
   "metadata": {
    "scrolled": true
   },
   "outputs": [],
   "source": [
    "import Recommenders as Recommenders\n",
    "train_data, test_data = train_test_split(MergedAllMsg5k, test_size = 0.30, random_state=0)\n",
    "\n",
    "#调用模型\n",
    "is_model = Recommenders.item_similarity_recommender_py()\n",
    "\n",
    "is_model.create(train_data, 'user', 'title')\n",
    "\n",
    "user_id =list(train_data.user)[7] #注意先转换成数组，再索引  !!! \n",
    "user_items = is_model.get_user_items(user_id)"
   ]
  },
  {
   "cell_type": "code",
   "execution_count": null,
   "id": "56618fdb",
   "metadata": {},
   "outputs": [],
   "source": [
    "'''\n",
    "    def create(self, train_data, user_id, item_id):\n",
    "        self.train_data = train_data\n",
    "        self.user_id = user_id\n",
    "        self.item_id = item_id\n",
    "        \n",
    "    def get_user_items(self, user):\n",
    "        # 拿到当前用户听过的所有歌（一首歌可能出现很多次）\n",
    "        user_data = self.train_data[self.train_data[self.user_id] == user]\n",
    "        # 变成数组+去重\n",
    "        user_items = list(user_data[self.item_id].unique())\n",
    "        return user_items\n",
    "\"\""
   ]
  },
  {
   "cell_type": "code",
   "execution_count": null,
   "id": "e017110f",
   "metadata": {
    "scrolled": true
   },
   "outputs": [],
   "source": [
    "user_id"
   ]
  },
  {
   "cell_type": "code",
   "execution_count": null,
   "id": "1fdba8b9",
   "metadata": {
    "scrolled": false
   },
   "outputs": [],
   "source": [
    "len(user_items)"
   ]
  },
  {
   "cell_type": "code",
   "execution_count": null,
   "id": "0d570550",
   "metadata": {
    "scrolled": true
   },
   "outputs": [],
   "source": [
    "#执行推荐\n",
    "is_model.recommend(user_id)"
   ]
  },
  {
   "cell_type": "code",
   "execution_count": null,
   "id": "14318808",
   "metadata": {},
   "outputs": [],
   "source": [
    "''''\n",
    "    def recommend(self, user):\n",
    "\n",
    "        #1、得到用户听过的所有歌\n",
    "        user_songs = self.get_user_items(user)    \n",
    "            \n",
    "        print(\"No. of unique songs for the user: %d\" % len(user_songs))\n",
    "        \n",
    "        #2、得到数据集中所有的歌\n",
    "        all_songs = self.get_all_items_train_data()\n",
    "        \n",
    "        print(\"no. of unique songs in the training set: %d\" % len(all_songs))\n",
    "         \n",
    "        #3、构建矩阵\n",
    "        #len(user_songs) X len(songs)\n",
    "        cooccurence_matrix = self.construct_cooccurence_matrix(user_songs, all_songs)\n",
    "        \n",
    "        #4、用交并集计算\n",
    "        df_recommendations = self.generate_top_recommendations(user, cooccurence_matrix, all_songs, user_songs)\n",
    "                \n",
    "        return df_recommendations"
   ]
  },
  {
   "cell_type": "markdown",
   "id": "a0db805f",
   "metadata": {},
   "source": [
    "## 基于矩阵分解（SVD）的推荐\n",
    "\n",
    "相似度计算的方法看起来比较简单就是实现出来，但是当数据较大的时候计算的时间消耗实在太大了，对每一个用户都需要多次遍历整个数据集来进行计算，矩阵分解的方法是当下更常使用的方法。\n",
    "\n",
    "奇异值分解(Singular Value Decomposition，SVD)是矩阵分解中一个经典方法\n",
    "- 奇异值分解的基本出发点跟隐语义模型有些类似都是将大矩阵转换成小矩阵的组合\n",
    "- 在SVD中我们所需的数据是用户对商品的打分，\n",
    "- 但是我们现在的数据集中只有用户播放歌曲的情况并没有实际的打分值\n",
    "- 所以我们还得自己来定义一下用户对每个歌曲的评分值。\n",
    "如果一个用户喜欢某个歌曲，应该经常播放这个歌曲，相反如果不喜欢某个歌曲，那播放次数肯定就比较少了。\n",
    "#### 用户对歌曲的打分值，定义为：用户播放该歌曲数量/该用户播放总量。"
   ]
  },
  {
   "cell_type": "markdown",
   "id": "49c358f6",
   "metadata": {},
   "source": [
    "#### 1、统计listen_count"
   ]
  },
  {
   "cell_type": "code",
   "execution_count": null,
   "id": "e26f7ec1",
   "metadata": {},
   "outputs": [],
   "source": [
    "MergedAllMsg5k.info()"
   ]
  },
  {
   "cell_type": "code",
   "execution_count": null,
   "id": "8a51c668",
   "metadata": {},
   "outputs": [],
   "source": [
    "# 计算歌曲被用户播放的总量\n",
    "Msg5kCountSum=MergedAllMsg5k[['user','listen_count']].groupby('user').sum().reset_index()\n",
    "Msg5kCountSum.info()"
   ]
  },
  {
   "cell_type": "code",
   "execution_count": null,
   "id": "a82756ec",
   "metadata": {},
   "outputs": [],
   "source": [
    "# 测试玩的\n",
    "# 选择其中的两列以song分组，计算总和？..\n",
    "# Msg5kCountSum_song=MergedAllMsg5k[['song','listen_count']].groupby('song').sum().reset_index()\n",
    "# Msg5kCountSum_song.info()"
   ]
  },
  {
   "cell_type": "code",
   "execution_count": null,
   "id": "c8f86ba9",
   "metadata": {},
   "outputs": [],
   "source": [
    "Msg5kCountSum.rename(columns={'listen_count':'total_count'},inplace=True)\n",
    "Msg5kCountSum.head()"
   ]
  },
  {
   "cell_type": "code",
   "execution_count": null,
   "id": "73fa8969",
   "metadata": {},
   "outputs": [],
   "source": [
    "#Merge操作\n",
    "MergedMsg5kCountSum=pd.merge(MergedAllMsg5k,Msg5kCountSum)\n",
    "MergedMsg5kCountSum.head()"
   ]
  },
  {
   "cell_type": "code",
   "execution_count": null,
   "id": "a54d5521",
   "metadata": {},
   "outputs": [],
   "source": [
    "MergedMsg5kCountSum.info()"
   ]
  },
  {
   "cell_type": "markdown",
   "id": "f6c65b2a",
   "metadata": {},
   "source": [
    "#### 2、计算比值"
   ]
  },
  {
   "cell_type": "code",
   "execution_count": null,
   "id": "cdb18a11",
   "metadata": {},
   "outputs": [],
   "source": [
    "MergedMsg5kCountSum['fractional_play_count'] = MergedMsg5kCountSum['listen_count']/MergedMsg5kCountSum['total_count']\n",
    "MergedMsg5kCountSum.head()"
   ]
  },
  {
   "cell_type": "code",
   "execution_count": null,
   "id": "92198da6",
   "metadata": {},
   "outputs": [],
   "source": [
    "# 例子\n",
    "# 某用户听不同歌的次数占总次数的比率\n",
    "MergedMsg5kCountSum[MergedMsg5kCountSum.user =='d6589314c0a9bcbca4fee0c93b14bc402363afea'][['user','song','listen_count','fractional_play_count']].head()"
   ]
  },
  {
   "cell_type": "markdown",
   "id": "a39ff3b9",
   "metadata": {},
   "source": [
    "#### 3、引入矩阵分解"
   ]
  },
  {
   "cell_type": "code",
   "execution_count": null,
   "id": "4e671615",
   "metadata": {},
   "outputs": [],
   "source": [
    "from scipy.sparse import coo_matrix\n",
    "\n",
    "small_set = MergedMsg5kCountSum\n",
    "#去重\n",
    "user_codes = small_set.user.drop_duplicates().reset_index()\n",
    "song_codes = small_set.song.drop_duplicates().reset_index()\n",
    "#改名\n",
    "user_codes.rename(columns={'index':'user_index'}, inplace=True) \n",
    "song_codes.rename(columns={'index':'song_index'}, inplace=True)\n",
    "# 把对应的索引值作为内容？\n",
    "user_codes['us_index_value'] = list(user_codes.index)\n",
    "song_codes['so_index_value'] = list(song_codes.index)\n",
    "\n",
    "small_set = pd.merge(small_set,song_codes,how='left')\n",
    "small_set = pd.merge(small_set,user_codes,how='left')\n",
    "#映射\n",
    "mat_set= small_set[['us_index_value','so_index_value','fractional_play_count']]\n",
    "\n",
    "# 得到全部内容\n",
    "data_array = mat_set.fractional_play_count.values\n",
    "row_array = mat_set.us_index_value.values\n",
    "col_array = mat_set.so_index_value.values\n",
    "\n",
    "# 重新构造一个矩阵\n",
    "data_sparse = coo_matrix((data_array, (row_array, col_array)),dtype=float)"
   ]
  },
  {
   "cell_type": "code",
   "execution_count": null,
   "id": "f452acd8",
   "metadata": {},
   "outputs": [],
   "source": [
    "user_codes"
   ]
  },
  {
   "cell_type": "code",
   "execution_count": null,
   "id": "1c7be233",
   "metadata": {},
   "outputs": [],
   "source": [
    "mat_set"
   ]
  },
  {
   "cell_type": "code",
   "execution_count": null,
   "id": "730742a8",
   "metadata": {},
   "outputs": [],
   "source": [
    "row_array"
   ]
  },
  {
   "cell_type": "code",
   "execution_count": null,
   "id": "b7e818ca",
   "metadata": {},
   "outputs": [],
   "source": [
    " data_sparse #稀疏矩阵 （  0比较多的矩阵  ）"
   ]
  },
  {
   "cell_type": "markdown",
   "id": "895289e3",
   "metadata": {},
   "source": [
    "### 使用SVD方法来进行矩阵分解\n",
    "\n",
    "矩阵构造好了之后我们就要执行SVD矩阵分解了，这里还需要一些额外的工具包来帮助我们完成计算，scipy就是其中一个好帮手了，里面已经封装好了SVD计算方法。"
   ]
  },
  {
   "cell_type": "code",
   "execution_count": null,
   "id": "40c5fded",
   "metadata": {},
   "outputs": [],
   "source": [
    "import math as mt\n",
    "from scipy.sparse.linalg import * #used for matrix multiplication\n",
    "from scipy.sparse.linalg import svds\n",
    "from scipy.sparse import csc_matrix"
   ]
  },
  {
   "cell_type": "code",
   "execution_count": null,
   "id": "f21e77ef",
   "metadata": {},
   "outputs": [],
   "source": [
    "def compute_svd(urm, K):\n",
    "    U, s, Vt = svds(urm, K)\n",
    "\n",
    "    dim = (len(s), len(s))\n",
    "    S = np.zeros(dim, dtype=np.float32)\n",
    "    for i in range(0, len(s)):\n",
    "        S[i,i] = mt.sqrt(s[i])\n",
    "\n",
    "    U = csc_matrix(U, dtype=np.float32)\n",
    "    S = csc_matrix(S, dtype=np.float32)\n",
    "    Vt = csc_matrix(Vt, dtype=np.float32)\n",
    "    \n",
    "    return U, S, Vt\n",
    "\n",
    "def compute_estimated_matrix(urm, U, S, Vt, uTest, K, test):\n",
    "    rightTerm = S*Vt \n",
    "    print('rightTerm-shape',rightTerm.shape)\n",
    "    max_recommendation = 250\n",
    "    estimatedRatings = np.zeros(shape=(MAX_UID, MAX_PID), dtype=np.float16)\n",
    "    recomendRatings = np.zeros(shape=(MAX_UID,max_recommendation ), dtype=np.float16)\n",
    "    for userTest in uTest:\n",
    "        print('U[userTest,:]',U[userTest,:].shape)\n",
    "        prod = U[userTest, :]*rightTerm\n",
    "        estimatedRatings[userTest, :] = prod.todense()\n",
    "        recomendRatings[userTest, :] = (-estimatedRatings[userTest, :]).argsort()[:max_recommendation]\n",
    "    return recomendRatings"
   ]
  },
  {
   "cell_type": "code",
   "execution_count": null,
   "id": "bfd57d82",
   "metadata": {},
   "outputs": [],
   "source": [
    "K=50 # 选择50个特征值\n",
    "urm = data_sparse \n",
    "MAX_PID = urm.shape[1]\n",
    "MAX_UID = urm.shape[0]\n",
    "\n",
    "U, S, Vt = compute_svd(urm, K)"
   ]
  },
  {
   "cell_type": "code",
   "execution_count": null,
   "id": "c6fe322c",
   "metadata": {
    "scrolled": true
   },
   "outputs": [],
   "source": [
    "# 选这几个索引的用户进行推荐\n",
    "uTest = [4,5,6,7,8,873,23]\n",
    "\n",
    "uTest_recommended_items = compute_estimated_matrix(urm, U, S, Vt, uTest, K, True)"
   ]
  },
  {
   "cell_type": "code",
   "execution_count": null,
   "id": "297427d0",
   "metadata": {
    "scrolled": true
   },
   "outputs": [],
   "source": [
    "for user in uTest:\n",
    "    print(\"Recommendation for user with user id {}\". format(user))\n",
    "    rank_value = 1\n",
    "    for i in uTest_recommended_items[user,0:10]:\n",
    "        song_details = small_set[small_set.so_index_value == i].drop_duplicates('so_index_value')[['title','artist_name']]\n",
    "        print(\"The number {} recommended song is {} BY {}\".format(rank_value, list(song_details['title'])[0],list(song_details['artist_name'])[0]))\n",
    "        rank_value+=1"
   ]
  },
  {
   "cell_type": "markdown",
   "id": "40c16cfc",
   "metadata": {},
   "source": [
    "这里对每一个用户都得到了其对应的推荐结果，并且将结果按照得分值进行排序。\n",
    "\n",
    "\n",
    "本章我们选择了音乐数据集来进行个性化推荐任务，首先对数据进行预处理和整合，选择两种方法分别完成推荐任务。在相似度计算中根据用户所听过的歌曲在候选集中选择与其最相似的歌曲，存在的问题就是计算时间消耗太多，每一个用户都需要重新计算一遍才能得出推荐结果。在SVD矩阵分解的方法中，我们首先构建评分矩阵，对其进行SVD分解，然后选择待推荐用户，还原得到其对所有歌曲的估测评分值，最后排序返回结果即可。"
   ]
  },
  {
   "cell_type": "code",
   "execution_count": null,
   "id": "3d7bc7ea",
   "metadata": {},
   "outputs": [],
   "source": [
    "uTest = [27513]\n",
    "#Get estimated rating for test user\n",
    "print(\"Predictied ratings:\")\n",
    "uTest_recommended_items = compute_estimated_matrix(urm, U, S, Vt, uTest, K, True)"
   ]
  },
  {
   "cell_type": "code",
   "execution_count": null,
   "id": "696a7338",
   "metadata": {},
   "outputs": [],
   "source": [
    "for user in uTest:\n",
    "    print(\"Recommendation for user with user id {}\". format(user))\n",
    "    rank_value = 1\n",
    "    for i in uTest_recommended_items[user,0:10]:\n",
    "        song_details = small_set[small_set.so_index_value == i].drop_duplicates('so_index_value')[['title','artist_name']]\n",
    "        print(\"The number {} recommended song is {} BY {}\".format(rank_value, list(song_details['title'])[0],list(song_details['artist_name'])[0]))\n",
    "        rank_value+=1"
   ]
  },
  {
   "cell_type": "code",
   "execution_count": null,
   "id": "06593059",
   "metadata": {},
   "outputs": [],
   "source": []
  },
  {
   "cell_type": "code",
   "execution_count": null,
   "id": "83e9a425",
   "metadata": {},
   "outputs": [],
   "source": []
  },
  {
   "cell_type": "code",
   "execution_count": null,
   "id": "df488ee0",
   "metadata": {},
   "outputs": [],
   "source": []
  },
  {
   "cell_type": "code",
   "execution_count": null,
   "id": "5a42556f",
   "metadata": {},
   "outputs": [],
   "source": []
  },
  {
   "cell_type": "code",
   "execution_count": null,
   "id": "d8825c94",
   "metadata": {},
   "outputs": [],
   "source": []
  }
 ],
 "metadata": {
  "kernelspec": {
   "display_name": "Python 3 (ipykernel)",
   "language": "python",
   "name": "python3"
  },
  "language_info": {
   "codemirror_mode": {
    "name": "ipython",
    "version": 3
   },
   "file_extension": ".py",
   "mimetype": "text/x-python",
   "name": "python",
   "nbconvert_exporter": "python",
   "pygments_lexer": "ipython3",
   "version": "3.10.9"
  }
 },
 "nbformat": 4,
 "nbformat_minor": 5
}
