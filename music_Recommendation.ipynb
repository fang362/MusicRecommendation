{
 "cells": [
  {
   "cell_type": "markdown",
   "id": "fc1899ea",
   "metadata": {},
   "source": [
    "## 推荐系统\n",
    "- 基于商品相似性的推荐\n",
    "- 基于SVD矩阵分解的推荐"
   ]
  },
  {
   "cell_type": "code",
   "execution_count": 1,
   "id": "925b8e21",
   "metadata": {},
   "outputs": [],
   "source": [
    "import pandas as pd\n",
    "import numpy as np\n",
    "import time\n",
    "import sqlite3\n",
    "\n",
    "data_home='./'"
   ]
  },
  {
   "cell_type": "markdown",
   "id": "74388158",
   "metadata": {},
   "source": [
    "## 数据读取\n",
    "在数据中需要：用户，歌曲，播放量"
   ]
  },
  {
   "cell_type": "code",
   "execution_count": 2,
   "id": "a699099f",
   "metadata": {},
   "outputs": [],
   "source": [
    "RawDataset=pd.read_csv(filepath_or_buffer=data_home+'train_triplets.txt',\n",
    "                    sep='\\t',header=None,\n",
    "                   names=['user','song','play_count'])"
   ]
  },
  {
   "cell_type": "code",
   "execution_count": 3,
   "id": "16c73733",
   "metadata": {
    "scrolled": true
   },
   "outputs": [
    {
     "data": {
      "text/html": [
       "<div>\n",
       "<style scoped>\n",
       "    .dataframe tbody tr th:only-of-type {\n",
       "        vertical-align: middle;\n",
       "    }\n",
       "\n",
       "    .dataframe tbody tr th {\n",
       "        vertical-align: top;\n",
       "    }\n",
       "\n",
       "    .dataframe thead th {\n",
       "        text-align: right;\n",
       "    }\n",
       "</style>\n",
       "<table border=\"1\" class=\"dataframe\">\n",
       "  <thead>\n",
       "    <tr style=\"text-align: right;\">\n",
       "      <th></th>\n",
       "      <th>user</th>\n",
       "      <th>song</th>\n",
       "      <th>play_count</th>\n",
       "    </tr>\n",
       "  </thead>\n",
       "  <tbody>\n",
       "    <tr>\n",
       "      <th>0</th>\n",
       "      <td>b80344d063b5ccb3212f76538f3d9e43d87dca9e</td>\n",
       "      <td>SOAKIMP12A8C130995</td>\n",
       "      <td>1</td>\n",
       "    </tr>\n",
       "    <tr>\n",
       "      <th>1</th>\n",
       "      <td>b80344d063b5ccb3212f76538f3d9e43d87dca9e</td>\n",
       "      <td>SOAPDEY12A81C210A9</td>\n",
       "      <td>1</td>\n",
       "    </tr>\n",
       "    <tr>\n",
       "      <th>2</th>\n",
       "      <td>b80344d063b5ccb3212f76538f3d9e43d87dca9e</td>\n",
       "      <td>SOBBMDR12A8C13253B</td>\n",
       "      <td>2</td>\n",
       "    </tr>\n",
       "    <tr>\n",
       "      <th>3</th>\n",
       "      <td>b80344d063b5ccb3212f76538f3d9e43d87dca9e</td>\n",
       "      <td>SOBFNSP12AF72A0E22</td>\n",
       "      <td>1</td>\n",
       "    </tr>\n",
       "    <tr>\n",
       "      <th>4</th>\n",
       "      <td>b80344d063b5ccb3212f76538f3d9e43d87dca9e</td>\n",
       "      <td>SOBFOVM12A58A7D494</td>\n",
       "      <td>1</td>\n",
       "    </tr>\n",
       "    <tr>\n",
       "      <th>5</th>\n",
       "      <td>b80344d063b5ccb3212f76538f3d9e43d87dca9e</td>\n",
       "      <td>SOBNZDC12A6D4FC103</td>\n",
       "      <td>1</td>\n",
       "    </tr>\n",
       "    <tr>\n",
       "      <th>6</th>\n",
       "      <td>b80344d063b5ccb3212f76538f3d9e43d87dca9e</td>\n",
       "      <td>SOBSUJE12A6D4F8CF5</td>\n",
       "      <td>2</td>\n",
       "    </tr>\n",
       "    <tr>\n",
       "      <th>7</th>\n",
       "      <td>b80344d063b5ccb3212f76538f3d9e43d87dca9e</td>\n",
       "      <td>SOBVFZR12A6D4F8AE3</td>\n",
       "      <td>1</td>\n",
       "    </tr>\n",
       "    <tr>\n",
       "      <th>8</th>\n",
       "      <td>b80344d063b5ccb3212f76538f3d9e43d87dca9e</td>\n",
       "      <td>SOBXALG12A8C13C108</td>\n",
       "      <td>1</td>\n",
       "    </tr>\n",
       "    <tr>\n",
       "      <th>9</th>\n",
       "      <td>b80344d063b5ccb3212f76538f3d9e43d87dca9e</td>\n",
       "      <td>SOBXHDL12A81C204C0</td>\n",
       "      <td>1</td>\n",
       "    </tr>\n",
       "  </tbody>\n",
       "</table>\n",
       "</div>"
      ],
      "text/plain": [
       "                                       user                song  play_count\n",
       "0  b80344d063b5ccb3212f76538f3d9e43d87dca9e  SOAKIMP12A8C130995           1\n",
       "1  b80344d063b5ccb3212f76538f3d9e43d87dca9e  SOAPDEY12A81C210A9           1\n",
       "2  b80344d063b5ccb3212f76538f3d9e43d87dca9e  SOBBMDR12A8C13253B           2\n",
       "3  b80344d063b5ccb3212f76538f3d9e43d87dca9e  SOBFNSP12AF72A0E22           1\n",
       "4  b80344d063b5ccb3212f76538f3d9e43d87dca9e  SOBFOVM12A58A7D494           1\n",
       "5  b80344d063b5ccb3212f76538f3d9e43d87dca9e  SOBNZDC12A6D4FC103           1\n",
       "6  b80344d063b5ccb3212f76538f3d9e43d87dca9e  SOBSUJE12A6D4F8CF5           2\n",
       "7  b80344d063b5ccb3212f76538f3d9e43d87dca9e  SOBVFZR12A6D4F8AE3           1\n",
       "8  b80344d063b5ccb3212f76538f3d9e43d87dca9e  SOBXALG12A8C13C108           1\n",
       "9  b80344d063b5ccb3212f76538f3d9e43d87dca9e  SOBXHDL12A81C204C0           1"
      ]
     },
     "execution_count": 3,
     "metadata": {},
     "output_type": "execute_result"
    }
   ],
   "source": [
    "RawDataset.head(10)"
   ]
  },
  {
   "cell_type": "code",
   "execution_count": 4,
   "id": "60e9f513",
   "metadata": {},
   "outputs": [
    {
     "data": {
      "text/plain": [
       "(48373586, 3)"
      ]
     },
     "execution_count": 4,
     "metadata": {},
     "output_type": "execute_result"
    }
   ],
   "source": [
    "RawDataset.shape"
   ]
  },
  {
   "cell_type": "code",
   "execution_count": 5,
   "id": "749a62c8",
   "metadata": {},
   "outputs": [
    {
     "name": "stdout",
     "output_type": "stream",
     "text": [
      "<class 'pandas.core.frame.DataFrame'>\n",
      "RangeIndex: 48373586 entries, 0 to 48373585\n",
      "Data columns (total 3 columns):\n",
      " #   Column      Dtype \n",
      "---  ------      ----- \n",
      " 0   user        object\n",
      " 1   song        object\n",
      " 2   play_count  int64 \n",
      "dtypes: int64(1), object(2)\n",
      "memory usage: 1.1+ GB\n"
     ]
    }
   ],
   "source": [
    "RawDataset.info()"
   ]
  },
  {
   "cell_type": "markdown",
   "id": "7803f342",
   "metadata": {},
   "source": [
    "## 统计每个用户的播放总量\n"
   ]
  },
  {
   "cell_type": "code",
   "execution_count": 6,
   "id": "f0605afc",
   "metadata": {},
   "outputs": [],
   "source": [
    "UserPlayDict={}\n",
    "with open(data_home+'train_triplets.txt') as f:\n",
    "    for line_number,line in enumerate(f):\n",
    "        user=line.split('\\t')[0] #遍历每一行的第一个元素为用户名\n",
    "        play_count=int(line.split('\\t')[2])\n",
    "        if user in UserPlayDict:\n",
    "            play_count +=UserPlayDict[user] #已存在此用户的信息时，只更新 播放次数\n",
    "            UserPlayDict.update({user:play_count})\n",
    "        UserPlayDict.update({user:play_count})# 如果遍历出来的用户不在字典里，则更新一组键值对\n",
    "    UserPlayList=[{'user':k,'play_count':v} for k,v in UserPlayDict.items()] #把字典里的弄到数组里？\n",
    "    UserPlayDf=pd.DataFrame(UserPlayList) #将数组转换成df形式\n",
    "    UserPlayDfSort=UserPlayDf.sort_values(by='play_count',ascending=False) #按照播放次数的大小排序\n",
    "        "
   ]
  },
  {
   "cell_type": "code",
   "execution_count": 7,
   "id": "d2c32f83",
   "metadata": {},
   "outputs": [],
   "source": [
    "UserPlayDfSort.to_csv(path_or_buf='UserPlayDfSort.csv',index=False) #存入本地"
   ]
  },
  {
   "cell_type": "code",
   "execution_count": 8,
   "id": "4394ecb5",
   "metadata": {},
   "outputs": [
    {
     "data": {
      "text/html": [
       "<div>\n",
       "<style scoped>\n",
       "    .dataframe tbody tr th:only-of-type {\n",
       "        vertical-align: middle;\n",
       "    }\n",
       "\n",
       "    .dataframe tbody tr th {\n",
       "        vertical-align: top;\n",
       "    }\n",
       "\n",
       "    .dataframe thead th {\n",
       "        text-align: right;\n",
       "    }\n",
       "</style>\n",
       "<table border=\"1\" class=\"dataframe\">\n",
       "  <thead>\n",
       "    <tr style=\"text-align: right;\">\n",
       "      <th></th>\n",
       "      <th>user</th>\n",
       "      <th>play_count</th>\n",
       "    </tr>\n",
       "  </thead>\n",
       "  <tbody>\n",
       "    <tr>\n",
       "      <th>669980</th>\n",
       "      <td>093cb74eb3c517c5179ae24caf0ebec51b24d2a2</td>\n",
       "      <td>13132</td>\n",
       "    </tr>\n",
       "    <tr>\n",
       "      <th>402687</th>\n",
       "      <td>119b7c88d58d0c6eb051365c103da5caf817bea6</td>\n",
       "      <td>9884</td>\n",
       "    </tr>\n",
       "    <tr>\n",
       "      <th>964856</th>\n",
       "      <td>3fa44653315697f42410a30cb766a4eb102080bb</td>\n",
       "      <td>8210</td>\n",
       "    </tr>\n",
       "    <tr>\n",
       "      <th>462404</th>\n",
       "      <td>a2679496cd0af9779a92a13ff7c6af5c81ea8c7b</td>\n",
       "      <td>7015</td>\n",
       "    </tr>\n",
       "    <tr>\n",
       "      <th>991089</th>\n",
       "      <td>d7d2d888ae04d16e994d6964214a1de81392ee04</td>\n",
       "      <td>6494</td>\n",
       "    </tr>\n",
       "  </tbody>\n",
       "</table>\n",
       "</div>"
      ],
      "text/plain": [
       "                                            user  play_count\n",
       "669980  093cb74eb3c517c5179ae24caf0ebec51b24d2a2       13132\n",
       "402687  119b7c88d58d0c6eb051365c103da5caf817bea6        9884\n",
       "964856  3fa44653315697f42410a30cb766a4eb102080bb        8210\n",
       "462404  a2679496cd0af9779a92a13ff7c6af5c81ea8c7b        7015\n",
       "991089  d7d2d888ae04d16e994d6964214a1de81392ee04        6494"
      ]
     },
     "execution_count": 8,
     "metadata": {},
     "output_type": "execute_result"
    }
   ],
   "source": [
    "UserPlayDfSort.head()"
   ]
  },
  {
   "cell_type": "markdown",
   "id": "df0a6f02",
   "metadata": {},
   "source": [
    "## 统计每一首歌的播放总量"
   ]
  },
  {
   "cell_type": "code",
   "execution_count": 9,
   "id": "7f475e08",
   "metadata": {},
   "outputs": [],
   "source": [
    "# 与统计每个用户的总播放量 方法一样，直接copy\n",
    "SongPlayDict={}\n",
    "with open(data_home+'train_triplets.txt') as f:\n",
    "    for line_number,line in enumerate(f):\n",
    "        song=line.split('\\t')[1] #遍历每一行的第一个元素为用户名\n",
    "        play_count=int(line.split('\\t')[2])\n",
    "        if song in SongPlayDict:\n",
    "            play_count +=SongPlayDict[song] #已存在此用户的信息时，只更新 播放次数\n",
    "            SongPlayDict.update({song:play_count})\n",
    "        SongPlayDict.update({song:play_count})# 如果遍历出来的用户不在字典里，则更新一组键值对\n",
    "    SongPlayList=[{'song':k,'play_count':v} for k,v in SongPlayDict.items()] #把字典里的弄到数组里？\n",
    "    SongPlayDf=pd.DataFrame(SongPlayList) #将数组转换成df形式\n",
    "    SongPlayDfSort= SongPlayDf.sort_values(by='play_count',ascending=False) #按照播放次数的大小排序\n",
    "SongPlayDfSort.to_csv(path_or_buf='SongPlayDfSort.csv',index=False) #存入本地"
   ]
  },
  {
   "cell_type": "code",
   "execution_count": 10,
   "id": "8967e305",
   "metadata": {},
   "outputs": [
    {
     "data": {
      "text/html": [
       "<div>\n",
       "<style scoped>\n",
       "    .dataframe tbody tr th:only-of-type {\n",
       "        vertical-align: middle;\n",
       "    }\n",
       "\n",
       "    .dataframe tbody tr th {\n",
       "        vertical-align: top;\n",
       "    }\n",
       "\n",
       "    .dataframe thead th {\n",
       "        text-align: right;\n",
       "    }\n",
       "</style>\n",
       "<table border=\"1\" class=\"dataframe\">\n",
       "  <thead>\n",
       "    <tr style=\"text-align: right;\">\n",
       "      <th></th>\n",
       "      <th>song</th>\n",
       "      <th>play_count</th>\n",
       "    </tr>\n",
       "  </thead>\n",
       "  <tbody>\n",
       "    <tr>\n",
       "      <th>202</th>\n",
       "      <td>SOBONKR12A58A7A7E0</td>\n",
       "      <td>726885</td>\n",
       "    </tr>\n",
       "    <tr>\n",
       "      <th>199</th>\n",
       "      <td>SOAUWYT12A81C206F1</td>\n",
       "      <td>648239</td>\n",
       "    </tr>\n",
       "    <tr>\n",
       "      <th>218</th>\n",
       "      <td>SOSXLTC12AF72A7F54</td>\n",
       "      <td>527893</td>\n",
       "    </tr>\n",
       "    <tr>\n",
       "      <th>22</th>\n",
       "      <td>SOFRQTD12A81C233C0</td>\n",
       "      <td>425463</td>\n",
       "    </tr>\n",
       "    <tr>\n",
       "      <th>206</th>\n",
       "      <td>SOEGIYH12A6D4FC0E3</td>\n",
       "      <td>389880</td>\n",
       "    </tr>\n",
       "  </tbody>\n",
       "</table>\n",
       "</div>"
      ],
      "text/plain": [
       "                   song  play_count\n",
       "202  SOBONKR12A58A7A7E0      726885\n",
       "199  SOAUWYT12A81C206F1      648239\n",
       "218  SOSXLTC12AF72A7F54      527893\n",
       "22   SOFRQTD12A81C233C0      425463\n",
       "206  SOEGIYH12A6D4FC0E3      389880"
      ]
     },
     "execution_count": 10,
     "metadata": {},
     "output_type": "execute_result"
    }
   ],
   "source": [
    "SongPlayDfSort.head()"
   ]
  },
  {
   "cell_type": "markdown",
   "id": "eeb60ccf",
   "metadata": {},
   "source": [
    "## 去掉惰性用户（只听一两次歌的人）\n",
    "注意要分别命名每个用户和每个歌曲的总播放量，否则下面会出现混淆，得出90%的比例"
   ]
  },
  {
   "cell_type": "code",
   "execution_count": 11,
   "id": "cf5a14ef",
   "metadata": {},
   "outputs": [
    {
     "name": "stdout",
     "output_type": "stream",
     "text": [
      "40.8807280500655\n"
     ]
    }
   ],
   "source": [
    "TotalPlayCount=sum(SongPlayDfSort.play_count)\n",
    "print(  float(  UserPlayDfSort.head(n=100000).play_count.sum()  /  TotalPlayCount ) *100 )\n",
    "# 取前10万个用户的总播放次数 除 歌曲的总播放次数 ->得出占比40%"
   ]
  },
  {
   "cell_type": "code",
   "execution_count": 12,
   "id": "6161abb4",
   "metadata": {},
   "outputs": [
    {
     "data": {
      "text/plain": [
       "78.39315366645269"
      ]
     },
     "execution_count": 12,
     "metadata": {},
     "output_type": "execute_result"
    }
   ],
   "source": [
    "float(SongPlayDfSort.head(30000).play_count.sum()/TotalPlayCount)*100\n",
    "#取前3万首歌的总播放量 除 歌曲总播放量 - >得出占比78%"
   ]
  },
  {
   "cell_type": "code",
   "execution_count": 13,
   "id": "1433a3c1",
   "metadata": {},
   "outputs": [],
   "source": [
    "# 经过人工分析，我们可取10w个用户，三万首歌\n",
    "UserPlayDfSort_10w=UserPlayDfSort.head(100000)\n",
    "SongPlayDfSort_3w=SongPlayDfSort.head(30000)\n",
    "User10w = list(UserPlayDfSort_10w.user)\n",
    "Song3w = list(SongPlayDfSort_3w.song)\n",
    "\n",
    "## 记住！命名注意关键词！！！ 不要叫 list，会覆盖掉内置的"
   ]
  },
  {
   "cell_type": "code",
   "execution_count": 14,
   "id": "ada8749b",
   "metadata": {
    "scrolled": false
   },
   "outputs": [
    {
     "data": {
      "text/plain": [
       "(100000, 2)"
      ]
     },
     "execution_count": 14,
     "metadata": {},
     "output_type": "execute_result"
    }
   ],
   "source": [
    "UserPlayDfSort_10w.shape"
   ]
  },
  {
   "cell_type": "markdown",
   "id": "db0c6783",
   "metadata": {},
   "source": [
    "## 过滤掉不符合逻辑的情况\n",
    "- 比如 前10w个用户中听的歌 不包含在新的歌曲列表中\n",
    "- 同样 前3w首被播放的歌 不存在于新的用户列表中"
   ]
  },
  {
   "cell_type": "code",
   "execution_count": 15,
   "id": "6c96b416",
   "metadata": {},
   "outputs": [
    {
     "data": {
      "text/html": [
       "<div>\n",
       "<style scoped>\n",
       "    .dataframe tbody tr th:only-of-type {\n",
       "        vertical-align: middle;\n",
       "    }\n",
       "\n",
       "    .dataframe tbody tr th {\n",
       "        vertical-align: top;\n",
       "    }\n",
       "\n",
       "    .dataframe thead th {\n",
       "        text-align: right;\n",
       "    }\n",
       "</style>\n",
       "<table border=\"1\" class=\"dataframe\">\n",
       "  <thead>\n",
       "    <tr style=\"text-align: right;\">\n",
       "      <th></th>\n",
       "      <th>user</th>\n",
       "      <th>song</th>\n",
       "      <th>play_count</th>\n",
       "    </tr>\n",
       "  </thead>\n",
       "  <tbody>\n",
       "    <tr>\n",
       "      <th>0</th>\n",
       "      <td>b80344d063b5ccb3212f76538f3d9e43d87dca9e</td>\n",
       "      <td>SOAKIMP12A8C130995</td>\n",
       "      <td>1</td>\n",
       "    </tr>\n",
       "    <tr>\n",
       "      <th>1</th>\n",
       "      <td>b80344d063b5ccb3212f76538f3d9e43d87dca9e</td>\n",
       "      <td>SOAPDEY12A81C210A9</td>\n",
       "      <td>1</td>\n",
       "    </tr>\n",
       "    <tr>\n",
       "      <th>2</th>\n",
       "      <td>b80344d063b5ccb3212f76538f3d9e43d87dca9e</td>\n",
       "      <td>SOBBMDR12A8C13253B</td>\n",
       "      <td>2</td>\n",
       "    </tr>\n",
       "    <tr>\n",
       "      <th>3</th>\n",
       "      <td>b80344d063b5ccb3212f76538f3d9e43d87dca9e</td>\n",
       "      <td>SOBFNSP12AF72A0E22</td>\n",
       "      <td>1</td>\n",
       "    </tr>\n",
       "    <tr>\n",
       "      <th>4</th>\n",
       "      <td>b80344d063b5ccb3212f76538f3d9e43d87dca9e</td>\n",
       "      <td>SOBFOVM12A58A7D494</td>\n",
       "      <td>1</td>\n",
       "    </tr>\n",
       "    <tr>\n",
       "      <th>5</th>\n",
       "      <td>b80344d063b5ccb3212f76538f3d9e43d87dca9e</td>\n",
       "      <td>SOBNZDC12A6D4FC103</td>\n",
       "      <td>1</td>\n",
       "    </tr>\n",
       "    <tr>\n",
       "      <th>6</th>\n",
       "      <td>b80344d063b5ccb3212f76538f3d9e43d87dca9e</td>\n",
       "      <td>SOBSUJE12A6D4F8CF5</td>\n",
       "      <td>2</td>\n",
       "    </tr>\n",
       "    <tr>\n",
       "      <th>7</th>\n",
       "      <td>b80344d063b5ccb3212f76538f3d9e43d87dca9e</td>\n",
       "      <td>SOBVFZR12A6D4F8AE3</td>\n",
       "      <td>1</td>\n",
       "    </tr>\n",
       "    <tr>\n",
       "      <th>8</th>\n",
       "      <td>b80344d063b5ccb3212f76538f3d9e43d87dca9e</td>\n",
       "      <td>SOBXALG12A8C13C108</td>\n",
       "      <td>1</td>\n",
       "    </tr>\n",
       "    <tr>\n",
       "      <th>9</th>\n",
       "      <td>b80344d063b5ccb3212f76538f3d9e43d87dca9e</td>\n",
       "      <td>SOBXHDL12A81C204C0</td>\n",
       "      <td>1</td>\n",
       "    </tr>\n",
       "  </tbody>\n",
       "</table>\n",
       "</div>"
      ],
      "text/plain": [
       "                                       user                song  play_count\n",
       "0  b80344d063b5ccb3212f76538f3d9e43d87dca9e  SOAKIMP12A8C130995           1\n",
       "1  b80344d063b5ccb3212f76538f3d9e43d87dca9e  SOAPDEY12A81C210A9           1\n",
       "2  b80344d063b5ccb3212f76538f3d9e43d87dca9e  SOBBMDR12A8C13253B           2\n",
       "3  b80344d063b5ccb3212f76538f3d9e43d87dca9e  SOBFNSP12AF72A0E22           1\n",
       "4  b80344d063b5ccb3212f76538f3d9e43d87dca9e  SOBFOVM12A58A7D494           1\n",
       "5  b80344d063b5ccb3212f76538f3d9e43d87dca9e  SOBNZDC12A6D4FC103           1\n",
       "6  b80344d063b5ccb3212f76538f3d9e43d87dca9e  SOBSUJE12A6D4F8CF5           2\n",
       "7  b80344d063b5ccb3212f76538f3d9e43d87dca9e  SOBVFZR12A6D4F8AE3           1\n",
       "8  b80344d063b5ccb3212f76538f3d9e43d87dca9e  SOBXALG12A8C13C108           1\n",
       "9  b80344d063b5ccb3212f76538f3d9e43d87dca9e  SOBXHDL12A81C204C0           1"
      ]
     },
     "execution_count": 15,
     "metadata": {},
     "output_type": "execute_result"
    }
   ],
   "source": [
    "RawDataset.head(10)"
   ]
  },
  {
   "cell_type": "code",
   "execution_count": 16,
   "id": "2d703f60",
   "metadata": {},
   "outputs": [
    {
     "data": {
      "text/plain": [
       "(48373586, 3)"
      ]
     },
     "execution_count": 16,
     "metadata": {},
     "output_type": "execute_result"
    }
   ],
   "source": [
    "# f_user.shape\n",
    "RawDataset.shape"
   ]
  },
  {
   "cell_type": "code",
   "execution_count": 18,
   "id": "ac660dad",
   "metadata": {},
   "outputs": [],
   "source": [
    "FilterDataset=RawDataset[RawDataset.user.isin(User10w)]# 去掉不在前10w用户列表中的其他数据\n",
    "SecFilterDataset=FilterDataset[FilterDataset.song.isin(Song3w)]#去掉经处理过的 且不在前3w歌曲列表中的其他数据\n",
    "# 保存在本地\n",
    "SecFilterDataset.to_csv(path_or_buf=data_home+'User10w_Song3w.csv',index=False)"
   ]
  },
  {
   "cell_type": "markdown",
   "id": "aafd77c6",
   "metadata": {},
   "source": [
    "过滤后的数据"
   ]
  },
  {
   "cell_type": "code",
   "execution_count": 19,
   "id": "80a4c495",
   "metadata": {},
   "outputs": [
    {
     "data": {
      "text/plain": [
       "(10774558, 3)"
      ]
     },
     "execution_count": 19,
     "metadata": {},
     "output_type": "execute_result"
    }
   ],
   "source": [
    "SecFilterDataset.shape "
   ]
  },
  {
   "cell_type": "code",
   "execution_count": 20,
   "id": "f8fd14b1",
   "metadata": {},
   "outputs": [
    {
     "data": {
      "text/html": [
       "<div>\n",
       "<style scoped>\n",
       "    .dataframe tbody tr th:only-of-type {\n",
       "        vertical-align: middle;\n",
       "    }\n",
       "\n",
       "    .dataframe tbody tr th {\n",
       "        vertical-align: top;\n",
       "    }\n",
       "\n",
       "    .dataframe thead th {\n",
       "        text-align: right;\n",
       "    }\n",
       "</style>\n",
       "<table border=\"1\" class=\"dataframe\">\n",
       "  <thead>\n",
       "    <tr style=\"text-align: right;\">\n",
       "      <th></th>\n",
       "      <th>user</th>\n",
       "      <th>song</th>\n",
       "      <th>play_count</th>\n",
       "    </tr>\n",
       "  </thead>\n",
       "  <tbody>\n",
       "    <tr>\n",
       "      <th>498</th>\n",
       "      <td>d6589314c0a9bcbca4fee0c93b14bc402363afea</td>\n",
       "      <td>SOADQPP12A67020C82</td>\n",
       "      <td>12</td>\n",
       "    </tr>\n",
       "    <tr>\n",
       "      <th>499</th>\n",
       "      <td>d6589314c0a9bcbca4fee0c93b14bc402363afea</td>\n",
       "      <td>SOAFTRR12AF72A8D4D</td>\n",
       "      <td>1</td>\n",
       "    </tr>\n",
       "    <tr>\n",
       "      <th>500</th>\n",
       "      <td>d6589314c0a9bcbca4fee0c93b14bc402363afea</td>\n",
       "      <td>SOANQFY12AB0183239</td>\n",
       "      <td>1</td>\n",
       "    </tr>\n",
       "    <tr>\n",
       "      <th>501</th>\n",
       "      <td>d6589314c0a9bcbca4fee0c93b14bc402363afea</td>\n",
       "      <td>SOAYATB12A6701FD50</td>\n",
       "      <td>1</td>\n",
       "    </tr>\n",
       "    <tr>\n",
       "      <th>502</th>\n",
       "      <td>d6589314c0a9bcbca4fee0c93b14bc402363afea</td>\n",
       "      <td>SOBOAFP12A8C131F36</td>\n",
       "      <td>7</td>\n",
       "    </tr>\n",
       "  </tbody>\n",
       "</table>\n",
       "</div>"
      ],
      "text/plain": [
       "                                         user                song  play_count\n",
       "498  d6589314c0a9bcbca4fee0c93b14bc402363afea  SOADQPP12A67020C82          12\n",
       "499  d6589314c0a9bcbca4fee0c93b14bc402363afea  SOAFTRR12AF72A8D4D           1\n",
       "500  d6589314c0a9bcbca4fee0c93b14bc402363afea  SOANQFY12AB0183239           1\n",
       "501  d6589314c0a9bcbca4fee0c93b14bc402363afea  SOAYATB12A6701FD50           1\n",
       "502  d6589314c0a9bcbca4fee0c93b14bc402363afea  SOBOAFP12A8C131F36           7"
      ]
     },
     "execution_count": 20,
     "metadata": {},
     "output_type": "execute_result"
    }
   ],
   "source": [
    "SecFilterDataset.head()"
   ]
  },
  {
   "cell_type": "markdown",
   "id": "bd97a95c",
   "metadata": {},
   "source": [
    "## 加入音乐详细信息\n",
    "- 把db数据库信息读入（注意！只需要前3w首（还是经过其他不合理筛选的））\n",
    "- 转换成df格式\n",
    "- 与现有数据表合并在一起"
   ]
  },
  {
   "cell_type": "code",
   "execution_count": 21,
   "id": "1dbb4a03",
   "metadata": {},
   "outputs": [
    {
     "data": {
      "text/plain": [
       "[('songs',)]"
      ]
     },
     "execution_count": 21,
     "metadata": {},
     "output_type": "execute_result"
    }
   ],
   "source": [
    "conn = sqlite3.connect(data_home+'track_metadata.db')\n",
    "cur = conn.cursor()\n",
    "cur.execute(\"SELECT name FROM sqlite_master WHERE type='table'\")\n",
    "cur.fetchall()"
   ]
  },
  {
   "cell_type": "code",
   "execution_count": 22,
   "id": "be9cd1ba",
   "metadata": {},
   "outputs": [],
   "source": [
    "AllMsg = pd.read_sql(con=conn, sql='select * from songs')\n",
    "Song3wMsg= AllMsg[AllMsg.song_id.isin(Song3w)]# 筛选出前3万歌曲的全部详细信息"
   ]
  },
  {
   "cell_type": "code",
   "execution_count": 23,
   "id": "7b8d8e61",
   "metadata": {},
   "outputs": [],
   "source": [
    "Song3wMsg.to_csv(path_or_buf=data_home+'Song3wMsg.csv', index=False)"
   ]
  },
  {
   "cell_type": "code",
   "execution_count": 24,
   "id": "82d3cefe",
   "metadata": {},
   "outputs": [
    {
     "data": {
      "text/plain": [
       "(30447, 14)"
      ]
     },
     "execution_count": 24,
     "metadata": {},
     "output_type": "execute_result"
    }
   ],
   "source": [
    "Song3wMsg.shape"
   ]
  },
  {
   "cell_type": "markdown",
   "id": "cfd64b12",
   "metadata": {},
   "source": [
    "## 我们现有的数据\n"
   ]
  },
  {
   "cell_type": "code",
   "execution_count": 25,
   "id": "b70653e7",
   "metadata": {
    "scrolled": true
   },
   "outputs": [
    {
     "data": {
      "text/html": [
       "<div>\n",
       "<style scoped>\n",
       "    .dataframe tbody tr th:only-of-type {\n",
       "        vertical-align: middle;\n",
       "    }\n",
       "\n",
       "    .dataframe tbody tr th {\n",
       "        vertical-align: top;\n",
       "    }\n",
       "\n",
       "    .dataframe thead th {\n",
       "        text-align: right;\n",
       "    }\n",
       "</style>\n",
       "<table border=\"1\" class=\"dataframe\">\n",
       "  <thead>\n",
       "    <tr style=\"text-align: right;\">\n",
       "      <th></th>\n",
       "      <th>track_id</th>\n",
       "      <th>title</th>\n",
       "      <th>song_id</th>\n",
       "      <th>release</th>\n",
       "      <th>artist_id</th>\n",
       "      <th>artist_mbid</th>\n",
       "      <th>artist_name</th>\n",
       "      <th>duration</th>\n",
       "      <th>artist_familiarity</th>\n",
       "      <th>artist_hotttnesss</th>\n",
       "      <th>year</th>\n",
       "      <th>track_7digitalid</th>\n",
       "      <th>shs_perf</th>\n",
       "      <th>shs_work</th>\n",
       "    </tr>\n",
       "  </thead>\n",
       "  <tbody>\n",
       "    <tr>\n",
       "      <th>115</th>\n",
       "      <td>TRMMGCB128E079651D</td>\n",
       "      <td>Get Along (Feat: Pace Won) (Instrumental)</td>\n",
       "      <td>SOHNWIM12A67ADF7D9</td>\n",
       "      <td>Charango</td>\n",
       "      <td>ARU3C671187FB3F71B</td>\n",
       "      <td>067102ea-9519-4622-9077-57ca4164cfbb</td>\n",
       "      <td>Morcheeba</td>\n",
       "      <td>227.47383</td>\n",
       "      <td>0.819087</td>\n",
       "      <td>0.533117</td>\n",
       "      <td>2002</td>\n",
       "      <td>185967</td>\n",
       "      <td>-1</td>\n",
       "      <td>0</td>\n",
       "    </tr>\n",
       "    <tr>\n",
       "      <th>123</th>\n",
       "      <td>TRMMGTX128F92FB4D9</td>\n",
       "      <td>Viejo</td>\n",
       "      <td>SOECFIW12A8C144546</td>\n",
       "      <td>Caraluna</td>\n",
       "      <td>ARPAAPH1187FB3601B</td>\n",
       "      <td>f69d655c-ffd6-4bee-8c2a-3086b2be2fc6</td>\n",
       "      <td>Bacilos</td>\n",
       "      <td>307.51302</td>\n",
       "      <td>0.595554</td>\n",
       "      <td>0.400705</td>\n",
       "      <td>0</td>\n",
       "      <td>6825058</td>\n",
       "      <td>-1</td>\n",
       "      <td>0</td>\n",
       "    </tr>\n",
       "    <tr>\n",
       "      <th>145</th>\n",
       "      <td>TRMMGDP128F933E59A</td>\n",
       "      <td>I Say A Little Prayer</td>\n",
       "      <td>SOGWEOB12AB018A4D0</td>\n",
       "      <td>The Legendary Hi Records Albums_ Volume 3: Ful...</td>\n",
       "      <td>ARNNRN31187B9AE7B7</td>\n",
       "      <td>fb7272ba-f130-4f0a-934d-6eeea4c18c9a</td>\n",
       "      <td>Al Green</td>\n",
       "      <td>133.58975</td>\n",
       "      <td>0.779490</td>\n",
       "      <td>0.599210</td>\n",
       "      <td>1978</td>\n",
       "      <td>5211723</td>\n",
       "      <td>-1</td>\n",
       "      <td>11898</td>\n",
       "    </tr>\n",
       "    <tr>\n",
       "      <th>172</th>\n",
       "      <td>TRMMHBF12903CF6E59</td>\n",
       "      <td>At the Ball_ That's All</td>\n",
       "      <td>SOJGCRL12A8C144187</td>\n",
       "      <td>Best of Laurel &amp; Hardy - The Lonesome Pine</td>\n",
       "      <td>AR1FEUF1187B9AF3E3</td>\n",
       "      <td>4a8ae4fd-ad6f-4912-851f-093f12ee3572</td>\n",
       "      <td>Laurel &amp; Hardy</td>\n",
       "      <td>123.71546</td>\n",
       "      <td>0.438709</td>\n",
       "      <td>0.307120</td>\n",
       "      <td>0</td>\n",
       "      <td>8645877</td>\n",
       "      <td>-1</td>\n",
       "      <td>0</td>\n",
       "    </tr>\n",
       "    <tr>\n",
       "      <th>191</th>\n",
       "      <td>TRMMHKG12903CDB1B5</td>\n",
       "      <td>Black Gold</td>\n",
       "      <td>SOHNFBA12AB018CD1D</td>\n",
       "      <td>Total Life Forever</td>\n",
       "      <td>ARVXV1J1187FB5BF88</td>\n",
       "      <td>6a65d878-fcd0-42cf-aff9-ca1d636a8bcc</td>\n",
       "      <td>Foals</td>\n",
       "      <td>386.32444</td>\n",
       "      <td>0.842578</td>\n",
       "      <td>0.514523</td>\n",
       "      <td>2010</td>\n",
       "      <td>9007438</td>\n",
       "      <td>-1</td>\n",
       "      <td>0</td>\n",
       "    </tr>\n",
       "  </tbody>\n",
       "</table>\n",
       "</div>"
      ],
      "text/plain": [
       "               track_id                                      title  \\\n",
       "115  TRMMGCB128E079651D  Get Along (Feat: Pace Won) (Instrumental)   \n",
       "123  TRMMGTX128F92FB4D9                                      Viejo   \n",
       "145  TRMMGDP128F933E59A                      I Say A Little Prayer   \n",
       "172  TRMMHBF12903CF6E59                    At the Ball_ That's All   \n",
       "191  TRMMHKG12903CDB1B5                                 Black Gold   \n",
       "\n",
       "                song_id                                            release  \\\n",
       "115  SOHNWIM12A67ADF7D9                                           Charango   \n",
       "123  SOECFIW12A8C144546                                           Caraluna   \n",
       "145  SOGWEOB12AB018A4D0  The Legendary Hi Records Albums_ Volume 3: Ful...   \n",
       "172  SOJGCRL12A8C144187         Best of Laurel & Hardy - The Lonesome Pine   \n",
       "191  SOHNFBA12AB018CD1D                                 Total Life Forever   \n",
       "\n",
       "              artist_id                           artist_mbid     artist_name  \\\n",
       "115  ARU3C671187FB3F71B  067102ea-9519-4622-9077-57ca4164cfbb       Morcheeba   \n",
       "123  ARPAAPH1187FB3601B  f69d655c-ffd6-4bee-8c2a-3086b2be2fc6         Bacilos   \n",
       "145  ARNNRN31187B9AE7B7  fb7272ba-f130-4f0a-934d-6eeea4c18c9a        Al Green   \n",
       "172  AR1FEUF1187B9AF3E3  4a8ae4fd-ad6f-4912-851f-093f12ee3572  Laurel & Hardy   \n",
       "191  ARVXV1J1187FB5BF88  6a65d878-fcd0-42cf-aff9-ca1d636a8bcc           Foals   \n",
       "\n",
       "      duration  artist_familiarity  artist_hotttnesss  year  track_7digitalid  \\\n",
       "115  227.47383            0.819087           0.533117  2002            185967   \n",
       "123  307.51302            0.595554           0.400705     0           6825058   \n",
       "145  133.58975            0.779490           0.599210  1978           5211723   \n",
       "172  123.71546            0.438709           0.307120     0           8645877   \n",
       "191  386.32444            0.842578           0.514523  2010           9007438   \n",
       "\n",
       "     shs_perf  shs_work  \n",
       "115        -1         0  \n",
       "123        -1         0  \n",
       "145        -1     11898  \n",
       "172        -1         0  \n",
       "191        -1         0  "
      ]
     },
     "execution_count": 25,
     "metadata": {},
     "output_type": "execute_result"
    }
   ],
   "source": [
    "Song3wMsg.head(5) #经过筛选的含有详细信息的歌曲数据"
   ]
  },
  {
   "cell_type": "markdown",
   "id": "17a2fcb5",
   "metadata": {},
   "source": [
    "### 去掉不需要的、重复的信息（列）"
   ]
  },
  {
   "cell_type": "code",
   "execution_count": 26,
   "id": "efd93dc9",
   "metadata": {
    "scrolled": true
   },
   "outputs": [
    {
     "data": {
      "text/html": [
       "<div>\n",
       "<style scoped>\n",
       "    .dataframe tbody tr th:only-of-type {\n",
       "        vertical-align: middle;\n",
       "    }\n",
       "\n",
       "    .dataframe tbody tr th {\n",
       "        vertical-align: top;\n",
       "    }\n",
       "\n",
       "    .dataframe thead th {\n",
       "        text-align: right;\n",
       "    }\n",
       "</style>\n",
       "<table border=\"1\" class=\"dataframe\">\n",
       "  <thead>\n",
       "    <tr style=\"text-align: right;\">\n",
       "      <th></th>\n",
       "      <th>title</th>\n",
       "      <th>song_id</th>\n",
       "      <th>release</th>\n",
       "      <th>artist_id</th>\n",
       "      <th>artist_name</th>\n",
       "      <th>duration</th>\n",
       "      <th>artist_familiarity</th>\n",
       "      <th>artist_hotttnesss</th>\n",
       "      <th>year</th>\n",
       "      <th>track_7digitalid</th>\n",
       "      <th>shs_perf</th>\n",
       "      <th>shs_work</th>\n",
       "    </tr>\n",
       "  </thead>\n",
       "  <tbody>\n",
       "    <tr>\n",
       "      <th>115</th>\n",
       "      <td>Get Along (Feat: Pace Won) (Instrumental)</td>\n",
       "      <td>SOHNWIM12A67ADF7D9</td>\n",
       "      <td>Charango</td>\n",
       "      <td>ARU3C671187FB3F71B</td>\n",
       "      <td>Morcheeba</td>\n",
       "      <td>227.47383</td>\n",
       "      <td>0.819087</td>\n",
       "      <td>0.533117</td>\n",
       "      <td>2002</td>\n",
       "      <td>185967</td>\n",
       "      <td>-1</td>\n",
       "      <td>0</td>\n",
       "    </tr>\n",
       "    <tr>\n",
       "      <th>123</th>\n",
       "      <td>Viejo</td>\n",
       "      <td>SOECFIW12A8C144546</td>\n",
       "      <td>Caraluna</td>\n",
       "      <td>ARPAAPH1187FB3601B</td>\n",
       "      <td>Bacilos</td>\n",
       "      <td>307.51302</td>\n",
       "      <td>0.595554</td>\n",
       "      <td>0.400705</td>\n",
       "      <td>0</td>\n",
       "      <td>6825058</td>\n",
       "      <td>-1</td>\n",
       "      <td>0</td>\n",
       "    </tr>\n",
       "    <tr>\n",
       "      <th>145</th>\n",
       "      <td>I Say A Little Prayer</td>\n",
       "      <td>SOGWEOB12AB018A4D0</td>\n",
       "      <td>The Legendary Hi Records Albums_ Volume 3: Ful...</td>\n",
       "      <td>ARNNRN31187B9AE7B7</td>\n",
       "      <td>Al Green</td>\n",
       "      <td>133.58975</td>\n",
       "      <td>0.779490</td>\n",
       "      <td>0.599210</td>\n",
       "      <td>1978</td>\n",
       "      <td>5211723</td>\n",
       "      <td>-1</td>\n",
       "      <td>11898</td>\n",
       "    </tr>\n",
       "    <tr>\n",
       "      <th>172</th>\n",
       "      <td>At the Ball_ That's All</td>\n",
       "      <td>SOJGCRL12A8C144187</td>\n",
       "      <td>Best of Laurel &amp; Hardy - The Lonesome Pine</td>\n",
       "      <td>AR1FEUF1187B9AF3E3</td>\n",
       "      <td>Laurel &amp; Hardy</td>\n",
       "      <td>123.71546</td>\n",
       "      <td>0.438709</td>\n",
       "      <td>0.307120</td>\n",
       "      <td>0</td>\n",
       "      <td>8645877</td>\n",
       "      <td>-1</td>\n",
       "      <td>0</td>\n",
       "    </tr>\n",
       "    <tr>\n",
       "      <th>191</th>\n",
       "      <td>Black Gold</td>\n",
       "      <td>SOHNFBA12AB018CD1D</td>\n",
       "      <td>Total Life Forever</td>\n",
       "      <td>ARVXV1J1187FB5BF88</td>\n",
       "      <td>Foals</td>\n",
       "      <td>386.32444</td>\n",
       "      <td>0.842578</td>\n",
       "      <td>0.514523</td>\n",
       "      <td>2010</td>\n",
       "      <td>9007438</td>\n",
       "      <td>-1</td>\n",
       "      <td>0</td>\n",
       "    </tr>\n",
       "  </tbody>\n",
       "</table>\n",
       "</div>"
      ],
      "text/plain": [
       "                                         title             song_id  \\\n",
       "115  Get Along (Feat: Pace Won) (Instrumental)  SOHNWIM12A67ADF7D9   \n",
       "123                                      Viejo  SOECFIW12A8C144546   \n",
       "145                      I Say A Little Prayer  SOGWEOB12AB018A4D0   \n",
       "172                    At the Ball_ That's All  SOJGCRL12A8C144187   \n",
       "191                                 Black Gold  SOHNFBA12AB018CD1D   \n",
       "\n",
       "                                               release           artist_id  \\\n",
       "115                                           Charango  ARU3C671187FB3F71B   \n",
       "123                                           Caraluna  ARPAAPH1187FB3601B   \n",
       "145  The Legendary Hi Records Albums_ Volume 3: Ful...  ARNNRN31187B9AE7B7   \n",
       "172         Best of Laurel & Hardy - The Lonesome Pine  AR1FEUF1187B9AF3E3   \n",
       "191                                 Total Life Forever  ARVXV1J1187FB5BF88   \n",
       "\n",
       "        artist_name   duration  artist_familiarity  artist_hotttnesss  year  \\\n",
       "115       Morcheeba  227.47383            0.819087           0.533117  2002   \n",
       "123         Bacilos  307.51302            0.595554           0.400705     0   \n",
       "145        Al Green  133.58975            0.779490           0.599210  1978   \n",
       "172  Laurel & Hardy  123.71546            0.438709           0.307120     0   \n",
       "191           Foals  386.32444            0.842578           0.514523  2010   \n",
       "\n",
       "     track_7digitalid  shs_perf  shs_work  \n",
       "115            185967        -1         0  \n",
       "123           6825058        -1         0  \n",
       "145           5211723        -1     11898  \n",
       "172           8645877        -1         0  \n",
       "191           9007438        -1         0  "
      ]
     },
     "execution_count": 26,
     "metadata": {},
     "output_type": "execute_result"
    }
   ],
   "source": [
    "del(Song3wMsg['track_id'])\n",
    "del(Song3wMsg['artist_mbid'])\n",
    "#去掉重复的行信息\n",
    "Song3wMsg=Song3wMsg.drop_duplicates(['song_id'])\n",
    "Song3wMsg.head()"
   ]
  },
  {
   "cell_type": "code",
   "execution_count": 27,
   "id": "c653051f",
   "metadata": {},
   "outputs": [
    {
     "data": {
      "text/plain": [
       "(30000, 12)"
      ]
     },
     "execution_count": 27,
     "metadata": {},
     "output_type": "execute_result"
    }
   ],
   "source": [
    "Song3wMsg.shape #经去重处理后，变成没有重复的3w首歌曲"
   ]
  },
  {
   "cell_type": "markdown",
   "id": "869431fd",
   "metadata": {},
   "source": [
    "## merge操作\n",
    "- 通过观察，得到下面这个表的song_id列与原来的new_dataset表的song列是对应的\n",
    "- 进行merge操作"
   ]
  },
  {
   "cell_type": "code",
   "execution_count": 28,
   "id": "c76c1e11",
   "metadata": {},
   "outputs": [
    {
     "name": "stdout",
     "output_type": "stream",
     "text": [
      "<class 'pandas.core.frame.DataFrame'>\n",
      "RangeIndex: 10774558 entries, 0 to 10774557\n",
      "Data columns (total 15 columns):\n",
      " #   Column              Dtype  \n",
      "---  ------              -----  \n",
      " 0   user                object \n",
      " 1   song                object \n",
      " 2   play_count          int64  \n",
      " 3   title               object \n",
      " 4   song_id             object \n",
      " 5   release             object \n",
      " 6   artist_id           object \n",
      " 7   artist_name         object \n",
      " 8   duration            float64\n",
      " 9   artist_familiarity  float64\n",
      " 10  artist_hotttnesss   float64\n",
      " 11  year                int64  \n",
      " 12  track_7digitalid    int64  \n",
      " 13  shs_perf            int64  \n",
      " 14  shs_work            int64  \n",
      "dtypes: float64(3), int64(5), object(7)\n",
      "memory usage: 1.2+ GB\n"
     ]
    }
   ],
   "source": [
    "MergedAllMsg3w=pd.merge(SecFilterDataset,Song3wMsg,\n",
    "                           how='left',left_on='song',right_on='song_id')\n",
    "MergedAllMsg3w.info()"
   ]
  },
  {
   "cell_type": "code",
   "execution_count": 29,
   "id": "f7dab5aa",
   "metadata": {
    "scrolled": false
   },
   "outputs": [
    {
     "data": {
      "text/html": [
       "<div>\n",
       "<style scoped>\n",
       "    .dataframe tbody tr th:only-of-type {\n",
       "        vertical-align: middle;\n",
       "    }\n",
       "\n",
       "    .dataframe tbody tr th {\n",
       "        vertical-align: top;\n",
       "    }\n",
       "\n",
       "    .dataframe thead th {\n",
       "        text-align: right;\n",
       "    }\n",
       "</style>\n",
       "<table border=\"1\" class=\"dataframe\">\n",
       "  <thead>\n",
       "    <tr style=\"text-align: right;\">\n",
       "      <th></th>\n",
       "      <th>user</th>\n",
       "      <th>song</th>\n",
       "      <th>listen_count</th>\n",
       "      <th>title</th>\n",
       "      <th>song_id</th>\n",
       "      <th>release</th>\n",
       "      <th>artist_id</th>\n",
       "      <th>artist_name</th>\n",
       "      <th>duration</th>\n",
       "      <th>artist_familiarity</th>\n",
       "      <th>artist_hotttnesss</th>\n",
       "      <th>year</th>\n",
       "      <th>track_7digitalid</th>\n",
       "      <th>shs_perf</th>\n",
       "      <th>shs_work</th>\n",
       "    </tr>\n",
       "  </thead>\n",
       "  <tbody>\n",
       "    <tr>\n",
       "      <th>0</th>\n",
       "      <td>d6589314c0a9bcbca4fee0c93b14bc402363afea</td>\n",
       "      <td>SOADQPP12A67020C82</td>\n",
       "      <td>12</td>\n",
       "      <td>You And Me Jesus</td>\n",
       "      <td>SOADQPP12A67020C82</td>\n",
       "      <td>Tribute To Jake Hess</td>\n",
       "      <td>ARDFZE61187FB45994</td>\n",
       "      <td>Jake Hess</td>\n",
       "      <td>199.26159</td>\n",
       "      <td>0.374553</td>\n",
       "      <td>0.327544</td>\n",
       "      <td>2004</td>\n",
       "      <td>142275</td>\n",
       "      <td>-1</td>\n",
       "      <td>0</td>\n",
       "    </tr>\n",
       "    <tr>\n",
       "      <th>1</th>\n",
       "      <td>d6589314c0a9bcbca4fee0c93b14bc402363afea</td>\n",
       "      <td>SOAFTRR12AF72A8D4D</td>\n",
       "      <td>1</td>\n",
       "      <td>Harder Better Faster Stronger</td>\n",
       "      <td>SOAFTRR12AF72A8D4D</td>\n",
       "      <td>Discovery</td>\n",
       "      <td>ARF8HTQ1187B9AE693</td>\n",
       "      <td>Daft Punk</td>\n",
       "      <td>223.60771</td>\n",
       "      <td>0.902841</td>\n",
       "      <td>1.021256</td>\n",
       "      <td>2007</td>\n",
       "      <td>485119</td>\n",
       "      <td>-1</td>\n",
       "      <td>0</td>\n",
       "    </tr>\n",
       "    <tr>\n",
       "      <th>2</th>\n",
       "      <td>d6589314c0a9bcbca4fee0c93b14bc402363afea</td>\n",
       "      <td>SOANQFY12AB0183239</td>\n",
       "      <td>1</td>\n",
       "      <td>Uprising</td>\n",
       "      <td>SOANQFY12AB0183239</td>\n",
       "      <td>Uprising</td>\n",
       "      <td>ARR3ONV1187B9A2F59</td>\n",
       "      <td>Muse</td>\n",
       "      <td>304.84853</td>\n",
       "      <td>0.929030</td>\n",
       "      <td>0.750427</td>\n",
       "      <td>0</td>\n",
       "      <td>6024257</td>\n",
       "      <td>-1</td>\n",
       "      <td>0</td>\n",
       "    </tr>\n",
       "    <tr>\n",
       "      <th>3</th>\n",
       "      <td>d6589314c0a9bcbca4fee0c93b14bc402363afea</td>\n",
       "      <td>SOAYATB12A6701FD50</td>\n",
       "      <td>1</td>\n",
       "      <td>Breakfast At Tiffany's</td>\n",
       "      <td>SOAYATB12A6701FD50</td>\n",
       "      <td>Home</td>\n",
       "      <td>AR97V5X1187FB4AE98</td>\n",
       "      <td>Deep Blue Something</td>\n",
       "      <td>257.22730</td>\n",
       "      <td>0.655889</td>\n",
       "      <td>0.409729</td>\n",
       "      <td>1993</td>\n",
       "      <td>163047</td>\n",
       "      <td>-1</td>\n",
       "      <td>0</td>\n",
       "    </tr>\n",
       "    <tr>\n",
       "      <th>4</th>\n",
       "      <td>d6589314c0a9bcbca4fee0c93b14bc402363afea</td>\n",
       "      <td>SOBOAFP12A8C131F36</td>\n",
       "      <td>7</td>\n",
       "      <td>Lucky (Album Version)</td>\n",
       "      <td>SOBOAFP12A8C131F36</td>\n",
       "      <td>We Sing.  We Dance.  We Steal Things.</td>\n",
       "      <td>ARML3X41187FB35F2E</td>\n",
       "      <td>Jason Mraz &amp; Colbie Caillat</td>\n",
       "      <td>189.62240</td>\n",
       "      <td>0.842972</td>\n",
       "      <td>0.770117</td>\n",
       "      <td>0</td>\n",
       "      <td>2638597</td>\n",
       "      <td>-1</td>\n",
       "      <td>0</td>\n",
       "    </tr>\n",
       "  </tbody>\n",
       "</table>\n",
       "</div>"
      ],
      "text/plain": [
       "                                       user                song  listen_count  \\\n",
       "0  d6589314c0a9bcbca4fee0c93b14bc402363afea  SOADQPP12A67020C82            12   \n",
       "1  d6589314c0a9bcbca4fee0c93b14bc402363afea  SOAFTRR12AF72A8D4D             1   \n",
       "2  d6589314c0a9bcbca4fee0c93b14bc402363afea  SOANQFY12AB0183239             1   \n",
       "3  d6589314c0a9bcbca4fee0c93b14bc402363afea  SOAYATB12A6701FD50             1   \n",
       "4  d6589314c0a9bcbca4fee0c93b14bc402363afea  SOBOAFP12A8C131F36             7   \n",
       "\n",
       "                           title             song_id  \\\n",
       "0               You And Me Jesus  SOADQPP12A67020C82   \n",
       "1  Harder Better Faster Stronger  SOAFTRR12AF72A8D4D   \n",
       "2                       Uprising  SOANQFY12AB0183239   \n",
       "3         Breakfast At Tiffany's  SOAYATB12A6701FD50   \n",
       "4          Lucky (Album Version)  SOBOAFP12A8C131F36   \n",
       "\n",
       "                                 release           artist_id  \\\n",
       "0                   Tribute To Jake Hess  ARDFZE61187FB45994   \n",
       "1                              Discovery  ARF8HTQ1187B9AE693   \n",
       "2                               Uprising  ARR3ONV1187B9A2F59   \n",
       "3                                   Home  AR97V5X1187FB4AE98   \n",
       "4  We Sing.  We Dance.  We Steal Things.  ARML3X41187FB35F2E   \n",
       "\n",
       "                   artist_name   duration  artist_familiarity  \\\n",
       "0                    Jake Hess  199.26159            0.374553   \n",
       "1                    Daft Punk  223.60771            0.902841   \n",
       "2                         Muse  304.84853            0.929030   \n",
       "3          Deep Blue Something  257.22730            0.655889   \n",
       "4  Jason Mraz & Colbie Caillat  189.62240            0.842972   \n",
       "\n",
       "   artist_hotttnesss  year  track_7digitalid  shs_perf  shs_work  \n",
       "0           0.327544  2004            142275        -1         0  \n",
       "1           1.021256  2007            485119        -1         0  \n",
       "2           0.750427     0           6024257        -1         0  \n",
       "3           0.409729  1993            163047        -1         0  \n",
       "4           0.770117     0           2638597        -1         0  "
      ]
     },
     "execution_count": 29,
     "metadata": {},
     "output_type": "execute_result"
    }
   ],
   "source": [
    "MergedAllMsg3w.rename(columns={'play_count':'listen_count'},inplace=True)\n",
    "# 把play_count改成listen_count.无关紧要的操作\n",
    "MergedAllMsg3w.head()"
   ]
  },
  {
   "cell_type": "markdown",
   "id": "7bcc01f0",
   "metadata": {},
   "source": [
    "### 删除其他无关紧要的信息（列）"
   ]
  },
  {
   "cell_type": "code",
   "execution_count": 30,
   "id": "fe756607",
   "metadata": {},
   "outputs": [
    {
     "name": "stdout",
     "output_type": "stream",
     "text": [
      "<class 'pandas.core.frame.DataFrame'>\n",
      "RangeIndex: 10774558 entries, 0 to 10774557\n",
      "Data columns (total 7 columns):\n",
      " #   Column        Dtype \n",
      "---  ------        ----- \n",
      " 0   user          object\n",
      " 1   song          object\n",
      " 2   listen_count  int64 \n",
      " 3   title         object\n",
      " 4   release       object\n",
      " 5   artist_name   object\n",
      " 6   year          int64 \n",
      "dtypes: int64(2), object(5)\n",
      "memory usage: 575.4+ MB\n"
     ]
    }
   ],
   "source": [
    "# 去掉不需要的指标\n",
    "del(MergedAllMsg3w['song_id'])\n",
    "del(MergedAllMsg3w['artist_id'])\n",
    "del(MergedAllMsg3w['duration'])\n",
    "del(MergedAllMsg3w['artist_familiarity'])\n",
    "del(MergedAllMsg3w['artist_hotttnesss'])\n",
    "del(MergedAllMsg3w['track_7digitalid'])\n",
    "del(MergedAllMsg3w['shs_perf'])\n",
    "del(MergedAllMsg3w['shs_work'])\n",
    "MergedAllMsg3w.info()"
   ]
  },
  {
   "cell_type": "markdown",
   "id": "139bc18d",
   "metadata": {},
   "source": [
    "## 可视化(●'◡'●)\n",
    "- 最流行的音乐\n",
    "- 最受欢迎的歌手"
   ]
  },
  {
   "cell_type": "code",
   "execution_count": 31,
   "id": "bb9d33f1",
   "metadata": {},
   "outputs": [
    {
     "data": {
      "text/html": [
       "<div>\n",
       "<style scoped>\n",
       "    .dataframe tbody tr th:only-of-type {\n",
       "        vertical-align: middle;\n",
       "    }\n",
       "\n",
       "    .dataframe tbody tr th {\n",
       "        vertical-align: top;\n",
       "    }\n",
       "\n",
       "    .dataframe thead th {\n",
       "        text-align: right;\n",
       "    }\n",
       "</style>\n",
       "<table border=\"1\" class=\"dataframe\">\n",
       "  <thead>\n",
       "    <tr style=\"text-align: right;\">\n",
       "      <th></th>\n",
       "      <th>title</th>\n",
       "      <th>listen_count</th>\n",
       "    </tr>\n",
       "  </thead>\n",
       "  <tbody>\n",
       "    <tr>\n",
       "      <th>0</th>\n",
       "      <td>I Will Not Reap Destruction</td>\n",
       "      <td>1022</td>\n",
       "    </tr>\n",
       "    <tr>\n",
       "      <th>1</th>\n",
       "      <td>!@*$%#</td>\n",
       "      <td>362</td>\n",
       "    </tr>\n",
       "    <tr>\n",
       "      <th>2</th>\n",
       "      <td>#!*@ You Tonight [Featuring R. Kelly] (Explici...</td>\n",
       "      <td>695</td>\n",
       "    </tr>\n",
       "    <tr>\n",
       "      <th>3</th>\n",
       "      <td>#1</td>\n",
       "      <td>525</td>\n",
       "    </tr>\n",
       "    <tr>\n",
       "      <th>4</th>\n",
       "      <td>#1 Stunna</td>\n",
       "      <td>457</td>\n",
       "    </tr>\n",
       "  </tbody>\n",
       "</table>\n",
       "</div>"
      ],
      "text/plain": [
       "                                               title  listen_count\n",
       "0                        I Will Not Reap Destruction          1022\n",
       "1                                             !@*$%#           362\n",
       "2  #!*@ You Tonight [Featuring R. Kelly] (Explici...           695\n",
       "3                                                 #1           525\n",
       "4                                          #1 Stunna           457"
      ]
     },
     "execution_count": 31,
     "metadata": {},
     "output_type": "execute_result"
    }
   ],
   "source": [
    "popular_songs=MergedAllMsg3w[['title','listen_count']].groupby('title').sum().reset_index()\n",
    "# 将歌曲以歌名分组，按照被播放的次数重新排序\n",
    "popular_songs.head()"
   ]
  },
  {
   "cell_type": "markdown",
   "id": "806bf26a",
   "metadata": {},
   "source": [
    "注意下面有个报错（上面也发生过）\n",
    "- TypeError: 'list' object is not callable\n",
    "- 可能是由于自己写的东西覆盖了，目前通过.tolist()方式解决"
   ]
  },
  {
   "cell_type": "code",
   "execution_count": 32,
   "id": "f8035cf1",
   "metadata": {
    "scrolled": false
   },
   "outputs": [
    {
     "data": {
      "image/png": "[encoded data removed]",
      "text/plain": [
       "<Figure size 640x480 with 1 Axes>"
      ]
     },
     "metadata": {},
     "output_type": "display_data"
    }
   ],
   "source": [
    "top20_songs=popular_songs.sort_values('listen_count',ascending=False).head(20)\n",
    "# print(top20_songs)\n",
    "\n",
    "import matplotlib.pyplot as plt\n",
    "import numpy as np\n",
    "\n",
    "objects=(top20_songs['title']).tolist()\n",
    "y_num=np.arange(len(objects))\n",
    "# performance=list(top20_songs['listen_count'])\n",
    "performance=top20_songs['listen_count'].tolist()\n",
    "\n",
    "plt.bar(y_num,performance,align='center',alpha=0.5)\n",
    "plt.xticks(y_num,objects,rotation='vertical')\n",
    "plt.ylabel('Count')\n",
    "plt.title('Top20 popular songs')\n",
    "\n",
    "plt.show()"
   ]
  },
  {
   "cell_type": "markdown",
   "id": "0e7e2bbf",
   "metadata": {},
   "source": [
    "最受欢迎的歌手"
   ]
  },
  {
   "cell_type": "code",
   "execution_count": 33,
   "id": "69d1d870",
   "metadata": {},
   "outputs": [
    {
     "data": {
      "image/png": "[encoded data removed]",
      "text/plain": [
       "<Figure size 640x480 with 1 Axes>"
      ]
     },
     "metadata": {},
     "output_type": "display_data"
    }
   ],
   "source": [
    "#按歌手来统计其播放总量\n",
    "popular_artist = MergedAllMsg3w[['artist_name','listen_count']].groupby('artist_name').sum().reset_index()\n",
    "#排序\n",
    "popular_artist_top_20 = popular_artist.sort_values('listen_count', ascending=False).head(n=20)\n",
    "\n",
    "objects = (popular_artist_top_20['artist_name']).tolist()\n",
    "y_pos = np.arange(len(objects))\n",
    "performance = popular_artist_top_20['listen_count'].tolist()\n",
    "#绘图 \n",
    "plt.bar(y_pos, performance, align='center', alpha=0.5)\n",
    "plt.xticks(y_pos, objects, rotation='vertical')\n",
    "plt.ylabel('Item count')\n",
    "plt.title('Most popular Artists')\n",
    " \n",
    "plt.show()"
   ]
  },
  {
   "cell_type": "markdown",
   "id": "7a6780df",
   "metadata": {},
   "source": [
    "### 用户播放量的分布"
   ]
  },
  {
   "cell_type": "code",
   "execution_count": 34,
   "id": "9bf4bfa1",
   "metadata": {},
   "outputs": [
    {
     "data": {
      "text/plain": [
       "count    99996.000000\n",
       "mean       107.749890\n",
       "std         79.742561\n",
       "min          1.000000\n",
       "25%         53.000000\n",
       "50%         89.000000\n",
       "75%        141.000000\n",
       "max       1189.000000\n",
       "Name: title, dtype: float64"
      ]
     },
     "execution_count": 34,
     "metadata": {},
     "output_type": "execute_result"
    }
   ],
   "source": [
    "user_count_distribution = MergedAllMsg3w[['user','title']].groupby('user').count().reset_index().sort_values(\n",
    "by='title',ascending = False)\n",
    "user_count_distribution.title.describe()"
   ]
  },
  {
   "cell_type": "code",
   "execution_count": 35,
   "id": "9eb5896c",
   "metadata": {},
   "outputs": [
    {
     "data": {
      "image/png": "[encoded data removed]",
      "text/plain": [
       "<Figure size 640x480 with 1 Axes>"
      ]
     },
     "metadata": {},
     "output_type": "display_data"
    }
   ],
   "source": [
    "x = user_count_distribution.title\n",
    "n, bins, patches = plt.hist(x, 50, facecolor='green', alpha=0.75)\n",
    "plt.xlabel('Play Counts')\n",
    "plt.ylabel('Num of Users')\n",
    "plt.title(r'$\\mathrm{Histogram\\ of\\ User\\ Play\\ Count\\ Distribution}\\ $')\n",
    "plt.grid(True)\n",
    "plt.show()"
   ]
  },
  {
   "cell_type": "markdown",
   "id": "d8046a5f",
   "metadata": {},
   "source": [
    "# 推荐系统"
   ]
  },
  {
   "cell_type": "markdown",
   "id": "1944b019",
   "metadata": {},
   "source": [
    "## 1、基于物品的协同过滤"
   ]
  },
  {
   "cell_type": "code",
   "execution_count": 36,
   "id": "d5457ffb",
   "metadata": {},
   "outputs": [],
   "source": [
    "import Recommenders as Recommenders\n",
    "from sklearn.model_selection import train_test_split"
   ]
  },
  {
   "cell_type": "markdown",
   "id": "657841a3",
   "metadata": {},
   "source": [
    "### 简单暴力，排行榜 榜单推荐\n",
    "\n",
    "（没看）"
   ]
  },
  {
   "cell_type": "code",
   "execution_count": 37,
   "id": "d93dc344",
   "metadata": {},
   "outputs": [
    {
     "data": {
      "text/html": [
       "<div>\n",
       "<style scoped>\n",
       "    .dataframe tbody tr th:only-of-type {\n",
       "        vertical-align: middle;\n",
       "    }\n",
       "\n",
       "    .dataframe tbody tr th {\n",
       "        vertical-align: top;\n",
       "    }\n",
       "\n",
       "    .dataframe thead th {\n",
       "        text-align: right;\n",
       "    }\n",
       "</style>\n",
       "<table border=\"1\" class=\"dataframe\">\n",
       "  <thead>\n",
       "    <tr style=\"text-align: right;\">\n",
       "      <th></th>\n",
       "      <th>user</th>\n",
       "      <th>song</th>\n",
       "      <th>listen_count</th>\n",
       "      <th>title</th>\n",
       "      <th>release</th>\n",
       "      <th>artist_name</th>\n",
       "      <th>year</th>\n",
       "    </tr>\n",
       "  </thead>\n",
       "  <tbody>\n",
       "    <tr>\n",
       "      <th>1901799</th>\n",
       "      <td>28866ea8a809d5d46273cd0989c5515c660ef8c7</td>\n",
       "      <td>SOEYVHS12AB0181D31</td>\n",
       "      <td>1</td>\n",
       "      <td>Monster</td>\n",
       "      <td>The Fame Monster</td>\n",
       "      <td>Lady GaGa</td>\n",
       "      <td>2009</td>\n",
       "    </tr>\n",
       "    <tr>\n",
       "      <th>4815185</th>\n",
       "      <td>c9608a24a2a40e0ec38993a70532e7bb56eff22b</td>\n",
       "      <td>SOKIYKQ12A8AE464FC</td>\n",
       "      <td>2</td>\n",
       "      <td>Fight For Your Life</td>\n",
       "      <td>Made In NYC</td>\n",
       "      <td>The Casualties</td>\n",
       "      <td>2000</td>\n",
       "    </tr>\n",
       "    <tr>\n",
       "      <th>10513026</th>\n",
       "      <td>24f0b09c133a6a0fe42f097734215dceb468d449</td>\n",
       "      <td>SOETFVO12AB018DFF3</td>\n",
       "      <td>1</td>\n",
       "      <td>Free Style (feat. Kevo_ Mussilini &amp; Lyrical 187)</td>\n",
       "      <td>A Bad Azz Mix Tape</td>\n",
       "      <td>Z-RO</td>\n",
       "      <td>0</td>\n",
       "    </tr>\n",
       "    <tr>\n",
       "      <th>2659073</th>\n",
       "      <td>4da3c59a0af73245cea000fd5efa30384182bfcb</td>\n",
       "      <td>SOAXJOU12A6D4F6685</td>\n",
       "      <td>1</td>\n",
       "      <td>Littlest Things</td>\n",
       "      <td>Alright_ Still</td>\n",
       "      <td>Lily Allen</td>\n",
       "      <td>2006</td>\n",
       "    </tr>\n",
       "    <tr>\n",
       "      <th>5506263</th>\n",
       "      <td>b46c5ed385cad7ecea8af6214f440d19de6eb6c2</td>\n",
       "      <td>SOXBCAY12AB0189EE0</td>\n",
       "      <td>1</td>\n",
       "      <td>La trama y el desenlace</td>\n",
       "      <td>Amar la trama</td>\n",
       "      <td>Jorge Drexler</td>\n",
       "      <td>2010</td>\n",
       "    </tr>\n",
       "  </tbody>\n",
       "</table>\n",
       "</div>"
      ],
      "text/plain": [
       "                                              user                song  \\\n",
       "1901799   28866ea8a809d5d46273cd0989c5515c660ef8c7  SOEYVHS12AB0181D31   \n",
       "4815185   c9608a24a2a40e0ec38993a70532e7bb56eff22b  SOKIYKQ12A8AE464FC   \n",
       "10513026  24f0b09c133a6a0fe42f097734215dceb468d449  SOETFVO12AB018DFF3   \n",
       "2659073   4da3c59a0af73245cea000fd5efa30384182bfcb  SOAXJOU12A6D4F6685   \n",
       "5506263   b46c5ed385cad7ecea8af6214f440d19de6eb6c2  SOXBCAY12AB0189EE0   \n",
       "\n",
       "          listen_count                                             title  \\\n",
       "1901799              1                                           Monster   \n",
       "4815185              2                               Fight For Your Life   \n",
       "10513026             1  Free Style (feat. Kevo_ Mussilini & Lyrical 187)   \n",
       "2659073              1                                   Littlest Things   \n",
       "5506263              1                           La trama y el desenlace   \n",
       "\n",
       "                     release     artist_name  year  \n",
       "1901799     The Fame Monster       Lady GaGa  2009  \n",
       "4815185          Made In NYC  The Casualties  2000  \n",
       "10513026  A Bad Azz Mix Tape            Z-RO     0  \n",
       "2659073       Alright_ Still      Lily Allen  2006  \n",
       "5506263        Amar la trama   Jorge Drexler  2010  "
      ]
     },
     "execution_count": 37,
     "metadata": {},
     "output_type": "execute_result"
    }
   ],
   "source": [
    "MergedAllMsg3w_set=MergedAllMsg3w\n",
    "train_data,test_data=train_test_split(MergedAllMsg3w_set,test_size = 0.40, random_state=0)\n",
    "train_data.head()"
   ]
  },
  {
   "cell_type": "code",
   "execution_count": 38,
   "id": "0d383ee6",
   "metadata": {},
   "outputs": [],
   "source": [
    "# 把点击量当成得分值\n",
    "def create_popularity_recommendation(train_data, user_id, item_id):\n",
    "    #根据指定的特征来统计其播放情况，可以选择歌曲名，专辑名，歌手名\n",
    "    train_data_grouped = train_data.groupby([item_id]).agg({user_id: 'count'}).reset_index()\n",
    "    #为了直观展示，我们用得分来表示其结果\n",
    "    train_data_grouped.rename(columns = {user_id: 'score'},inplace=True)\n",
    "    \n",
    "    #排行榜单需要排序\n",
    "    train_data_sort = train_data_grouped.sort_values(['score', item_id], ascending = [0,1])\n",
    "    \n",
    "    #加入一项排行等级，表示其推荐的优先级\n",
    "    train_data_sort['Rank'] = train_data_sort['score'].rank(ascending=0, method='first')\n",
    "        \n",
    "    #返回指定个数的推荐结果\n",
    "    popularity_recommendations = train_data_sort.head(20)\n",
    "    return popularity_recommendations"
   ]
  },
  {
   "cell_type": "code",
   "execution_count": 39,
   "id": "ebc8037f",
   "metadata": {},
   "outputs": [],
   "source": [
    "recommendations = create_popularity_recommendation(MergedAllMsg3w_set,'user','title')"
   ]
  },
  {
   "cell_type": "code",
   "execution_count": 40,
   "id": "135a5eaf",
   "metadata": {
    "scrolled": true
   },
   "outputs": [
    {
     "data": {
      "text/html": [
       "<div>\n",
       "<style scoped>\n",
       "    .dataframe tbody tr th:only-of-type {\n",
       "        vertical-align: middle;\n",
       "    }\n",
       "\n",
       "    .dataframe tbody tr th {\n",
       "        vertical-align: top;\n",
       "    }\n",
       "\n",
       "    .dataframe thead th {\n",
       "        text-align: right;\n",
       "    }\n",
       "</style>\n",
       "<table border=\"1\" class=\"dataframe\">\n",
       "  <thead>\n",
       "    <tr style=\"text-align: right;\">\n",
       "      <th></th>\n",
       "      <th>title</th>\n",
       "      <th>score</th>\n",
       "      <th>Rank</th>\n",
       "    </tr>\n",
       "  </thead>\n",
       "  <tbody>\n",
       "    <tr>\n",
       "      <th>19580</th>\n",
       "      <td>Sehr kosmisch</td>\n",
       "      <td>18626</td>\n",
       "      <td>1.0</td>\n",
       "    </tr>\n",
       "    <tr>\n",
       "      <th>5780</th>\n",
       "      <td>Dog Days Are Over (Radio Edit)</td>\n",
       "      <td>17635</td>\n",
       "      <td>2.0</td>\n",
       "    </tr>\n",
       "    <tr>\n",
       "      <th>27314</th>\n",
       "      <td>You're The One</td>\n",
       "      <td>16085</td>\n",
       "      <td>3.0</td>\n",
       "    </tr>\n",
       "    <tr>\n",
       "      <th>19542</th>\n",
       "      <td>Secrets</td>\n",
       "      <td>15138</td>\n",
       "      <td>4.0</td>\n",
       "    </tr>\n",
       "    <tr>\n",
       "      <th>18636</th>\n",
       "      <td>Revelry</td>\n",
       "      <td>14945</td>\n",
       "      <td>5.0</td>\n",
       "    </tr>\n",
       "    <tr>\n",
       "      <th>25070</th>\n",
       "      <td>Undo</td>\n",
       "      <td>14687</td>\n",
       "      <td>6.0</td>\n",
       "    </tr>\n",
       "    <tr>\n",
       "      <th>7530</th>\n",
       "      <td>Fireflies</td>\n",
       "      <td>13085</td>\n",
       "      <td>7.0</td>\n",
       "    </tr>\n",
       "    <tr>\n",
       "      <th>9640</th>\n",
       "      <td>Hey_ Soul Sister</td>\n",
       "      <td>12993</td>\n",
       "      <td>8.0</td>\n",
       "    </tr>\n",
       "    <tr>\n",
       "      <th>25216</th>\n",
       "      <td>Use Somebody</td>\n",
       "      <td>12793</td>\n",
       "      <td>9.0</td>\n",
       "    </tr>\n",
       "    <tr>\n",
       "      <th>9921</th>\n",
       "      <td>Horn Concerto No. 4 in E flat K495: II. Romanc...</td>\n",
       "      <td>12346</td>\n",
       "      <td>10.0</td>\n",
       "    </tr>\n",
       "    <tr>\n",
       "      <th>24291</th>\n",
       "      <td>Tive Sim</td>\n",
       "      <td>11831</td>\n",
       "      <td>11.0</td>\n",
       "    </tr>\n",
       "    <tr>\n",
       "      <th>3629</th>\n",
       "      <td>Canada</td>\n",
       "      <td>11598</td>\n",
       "      <td>12.0</td>\n",
       "    </tr>\n",
       "    <tr>\n",
       "      <th>23468</th>\n",
       "      <td>The Scientist</td>\n",
       "      <td>11529</td>\n",
       "      <td>13.0</td>\n",
       "    </tr>\n",
       "    <tr>\n",
       "      <th>4194</th>\n",
       "      <td>Clocks</td>\n",
       "      <td>11357</td>\n",
       "      <td>14.0</td>\n",
       "    </tr>\n",
       "    <tr>\n",
       "      <th>12135</th>\n",
       "      <td>Just Dance</td>\n",
       "      <td>11058</td>\n",
       "      <td>15.0</td>\n",
       "    </tr>\n",
       "    <tr>\n",
       "      <th>26974</th>\n",
       "      <td>Yellow</td>\n",
       "      <td>10919</td>\n",
       "      <td>16.0</td>\n",
       "    </tr>\n",
       "    <tr>\n",
       "      <th>16438</th>\n",
       "      <td>OMG</td>\n",
       "      <td>10818</td>\n",
       "      <td>17.0</td>\n",
       "    </tr>\n",
       "    <tr>\n",
       "      <th>9844</th>\n",
       "      <td>Home</td>\n",
       "      <td>10512</td>\n",
       "      <td>18.0</td>\n",
       "    </tr>\n",
       "    <tr>\n",
       "      <th>3295</th>\n",
       "      <td>Bulletproof</td>\n",
       "      <td>10383</td>\n",
       "      <td>19.0</td>\n",
       "    </tr>\n",
       "    <tr>\n",
       "      <th>4760</th>\n",
       "      <td>Creep (Explicit)</td>\n",
       "      <td>10246</td>\n",
       "      <td>20.0</td>\n",
       "    </tr>\n",
       "  </tbody>\n",
       "</table>\n",
       "</div>"
      ],
      "text/plain": [
       "                                                   title  score  Rank\n",
       "19580                                      Sehr kosmisch  18626   1.0\n",
       "5780                      Dog Days Are Over (Radio Edit)  17635   2.0\n",
       "27314                                     You're The One  16085   3.0\n",
       "19542                                            Secrets  15138   4.0\n",
       "18636                                            Revelry  14945   5.0\n",
       "25070                                               Undo  14687   6.0\n",
       "7530                                           Fireflies  13085   7.0\n",
       "9640                                    Hey_ Soul Sister  12993   8.0\n",
       "25216                                       Use Somebody  12793   9.0\n",
       "9921   Horn Concerto No. 4 in E flat K495: II. Romanc...  12346  10.0\n",
       "24291                                           Tive Sim  11831  11.0\n",
       "3629                                              Canada  11598  12.0\n",
       "23468                                      The Scientist  11529  13.0\n",
       "4194                                              Clocks  11357  14.0\n",
       "12135                                         Just Dance  11058  15.0\n",
       "26974                                             Yellow  10919  16.0\n",
       "16438                                                OMG  10818  17.0\n",
       "9844                                                Home  10512  18.0\n",
       "3295                                         Bulletproof  10383  19.0\n",
       "4760                                    Creep (Explicit)  10246  20.0"
      ]
     },
     "execution_count": 40,
     "metadata": {},
     "output_type": "execute_result"
    }
   ],
   "source": [
    "recommendations"
   ]
  },
  {
   "cell_type": "markdown",
   "id": "9a5cca8c",
   "metadata": {},
   "source": [
    "## 基于歌曲相似度的推荐\n",
    "选5000的样本容量来实验"
   ]
  },
  {
   "cell_type": "code",
   "execution_count": 41,
   "id": "b376bbf1",
   "metadata": {},
   "outputs": [
    {
     "name": "stdout",
     "output_type": "stream",
     "text": [
      "<class 'pandas.core.frame.DataFrame'>\n",
      "RangeIndex: 10774558 entries, 0 to 10774557\n",
      "Data columns (total 7 columns):\n",
      " #   Column        Dtype \n",
      "---  ------        ----- \n",
      " 0   user          object\n",
      " 1   song          object\n",
      " 2   listen_count  int64 \n",
      " 3   title         object\n",
      " 4   release       object\n",
      " 5   artist_name   object\n",
      " 6   year          int64 \n",
      "dtypes: int64(2), object(5)\n",
      "memory usage: 575.4+ MB\n"
     ]
    }
   ],
   "source": [
    "# SongPlayDfSort.info()\n",
    "# AllMsg.info()\n",
    "MergedAllMsg3w.info()"
   ]
  },
  {
   "cell_type": "code",
   "execution_count": 42,
   "id": "8bd1deb3",
   "metadata": {},
   "outputs": [],
   "source": [
    "#取5000样本\n",
    "Song5k=SongPlayDfSort.head(5000)\n",
    "\n",
    "Song5kList =list(Song5k.song)# 转换成数组\n",
    "MergedAllMsg5k=MergedAllMsg3w_set[MergedAllMsg3w_set.song.isin(Song5kList)]"
   ]
  },
  {
   "cell_type": "code",
   "execution_count": 43,
   "id": "e936780b",
   "metadata": {},
   "outputs": [
    {
     "name": "stdout",
     "output_type": "stream",
     "text": [
      "<class 'pandas.core.frame.DataFrame'>\n",
      "Index: 5000 entries, 202 to 23165\n",
      "Data columns (total 2 columns):\n",
      " #   Column      Non-Null Count  Dtype \n",
      "---  ------      --------------  ----- \n",
      " 0   song        5000 non-null   object\n",
      " 1   play_count  5000 non-null   int64 \n",
      "dtypes: int64(1), object(1)\n",
      "memory usage: 117.2+ KB\n"
     ]
    }
   ],
   "source": [
    "Song5k.info()"
   ]
  },
  {
   "cell_type": "code",
   "execution_count": 44,
   "id": "f8097e8c",
   "metadata": {
    "scrolled": true
   },
   "outputs": [
    {
     "name": "stdout",
     "output_type": "stream",
     "text": [
      "<class 'pandas.core.frame.DataFrame'>\n",
      "Index: 5535035 entries, 0 to 10774557\n",
      "Data columns (total 7 columns):\n",
      " #   Column        Dtype \n",
      "---  ------        ----- \n",
      " 0   user          object\n",
      " 1   song          object\n",
      " 2   listen_count  int64 \n",
      " 3   title         object\n",
      " 4   release       object\n",
      " 5   artist_name   object\n",
      " 6   year          int64 \n",
      "dtypes: int64(2), object(5)\n",
      "memory usage: 337.8+ MB\n"
     ]
    }
   ],
   "source": [
    "MergedAllMsg5k.info()"
   ]
  },
  {
   "cell_type": "markdown",
   "id": "bccd2f6d",
   "metadata": {},
   "source": [
    "## 计算相似度得到推荐结果"
   ]
  },
  {
   "cell_type": "code",
   "execution_count": 48,
   "id": "93368aef",
   "metadata": {
    "scrolled": true
   },
   "outputs": [],
   "source": [
    "import Recommenders as Recommenders\n",
    "train_data, test_data = train_test_split(MergedAllMsg5k, test_size = 0.30, random_state=0)\n",
    "\n",
    "#调用模型\n",
    "is_model = Recommenders.item_similarity_recommender_py()\n",
    "\n",
    "is_model.create(train_data, 'user', 'title')\n",
    "\n",
    "user_id =list(train_data.user)[7] #注意先转换成数组，再索引  !!! \n",
    "user_items = is_model.get_user_items(user_id)"
   ]
  },
  {
   "cell_type": "code",
   "execution_count": null,
   "id": "a288cf08",
   "metadata": {},
   "outputs": [],
   "source": [
    "'''\n",
    "    def create(self, train_data, user_id, item_id):\n",
    "        self.train_data = train_data\n",
    "        self.user_id = user_id\n",
    "        self.item_id = item_id\n",
    "        \n",
    "    def get_user_items(self, user):\n",
    "        # 拿到当前用户听过的所有歌（一首歌可能出现很多次）\n",
    "        user_data = self.train_data[self.train_data[self.user_id] == user]\n",
    "        # 变成数组+去重\n",
    "        user_items = list(user_data[self.item_id].unique())\n",
    "        return user_items\n",
    "\"\""
   ]
  },
  {
   "cell_type": "code",
   "execution_count": 49,
   "id": "e017110f",
   "metadata": {
    "scrolled": true
   },
   "outputs": [
    {
     "data": {
      "text/plain": [
       "'a974fc428825ed071281302d6976f59bfa95fe7e'"
      ]
     },
     "execution_count": 49,
     "metadata": {},
     "output_type": "execute_result"
    }
   ],
   "source": [
    "user_id"
   ]
  },
  {
   "cell_type": "code",
   "execution_count": 50,
   "id": "1fdba8b9",
   "metadata": {
    "scrolled": false
   },
   "outputs": [
    {
     "data": {
      "text/plain": [
       "66"
      ]
     },
     "execution_count": 50,
     "metadata": {},
     "output_type": "execute_result"
    }
   ],
   "source": [
    "len(user_items)"
   ]
  },
  {
   "cell_type": "code",
   "execution_count": 52,
   "id": "0d570550",
   "metadata": {
    "scrolled": true
   },
   "outputs": [
    {
     "name": "stdout",
     "output_type": "stream",
     "text": [
      "No. of unique songs for the user: 66\n",
      "no. of unique songs in the training set: 4879\n",
      "Non zero values in cooccurence_matrix :290327\n"
     ]
    },
    {
     "data": {
      "text/html": [
       "<div>\n",
       "<style scoped>\n",
       "    .dataframe tbody tr th:only-of-type {\n",
       "        vertical-align: middle;\n",
       "    }\n",
       "\n",
       "    .dataframe tbody tr th {\n",
       "        vertical-align: top;\n",
       "    }\n",
       "\n",
       "    .dataframe thead th {\n",
       "        text-align: right;\n",
       "    }\n",
       "</style>\n",
       "<table border=\"1\" class=\"dataframe\">\n",
       "  <thead>\n",
       "    <tr style=\"text-align: right;\">\n",
       "      <th></th>\n",
       "      <th>user_id</th>\n",
       "      <th>song</th>\n",
       "      <th>score</th>\n",
       "      <th>rank</th>\n",
       "    </tr>\n",
       "  </thead>\n",
       "  <tbody>\n",
       "    <tr>\n",
       "      <th>0</th>\n",
       "      <td>a974fc428825ed071281302d6976f59bfa95fe7e</td>\n",
       "      <td>Put Your Head On My Shoulder (Album Version)</td>\n",
       "      <td>0.026334</td>\n",
       "      <td>1</td>\n",
       "    </tr>\n",
       "    <tr>\n",
       "      <th>1</th>\n",
       "      <td>a974fc428825ed071281302d6976f59bfa95fe7e</td>\n",
       "      <td>The Strength To Go On</td>\n",
       "      <td>0.025176</td>\n",
       "      <td>2</td>\n",
       "    </tr>\n",
       "    <tr>\n",
       "      <th>2</th>\n",
       "      <td>a974fc428825ed071281302d6976f59bfa95fe7e</td>\n",
       "      <td>Come Fly With Me (Album Version)</td>\n",
       "      <td>0.024447</td>\n",
       "      <td>3</td>\n",
       "    </tr>\n",
       "    <tr>\n",
       "      <th>3</th>\n",
       "      <td>a974fc428825ed071281302d6976f59bfa95fe7e</td>\n",
       "      <td>Moondance (Album Version)</td>\n",
       "      <td>0.024118</td>\n",
       "      <td>4</td>\n",
       "    </tr>\n",
       "    <tr>\n",
       "      <th>4</th>\n",
       "      <td>a974fc428825ed071281302d6976f59bfa95fe7e</td>\n",
       "      <td>Kotov Syndrome</td>\n",
       "      <td>0.023311</td>\n",
       "      <td>5</td>\n",
       "    </tr>\n",
       "    <tr>\n",
       "      <th>5</th>\n",
       "      <td>a974fc428825ed071281302d6976f59bfa95fe7e</td>\n",
       "      <td>Use Somebody</td>\n",
       "      <td>0.023104</td>\n",
       "      <td>6</td>\n",
       "    </tr>\n",
       "    <tr>\n",
       "      <th>6</th>\n",
       "      <td>a974fc428825ed071281302d6976f59bfa95fe7e</td>\n",
       "      <td>Lucky (Album Version)</td>\n",
       "      <td>0.022930</td>\n",
       "      <td>7</td>\n",
       "    </tr>\n",
       "    <tr>\n",
       "      <th>7</th>\n",
       "      <td>a974fc428825ed071281302d6976f59bfa95fe7e</td>\n",
       "      <td>Secrets</td>\n",
       "      <td>0.022889</td>\n",
       "      <td>8</td>\n",
       "    </tr>\n",
       "    <tr>\n",
       "      <th>8</th>\n",
       "      <td>a974fc428825ed071281302d6976f59bfa95fe7e</td>\n",
       "      <td>Clocks</td>\n",
       "      <td>0.022562</td>\n",
       "      <td>9</td>\n",
       "    </tr>\n",
       "    <tr>\n",
       "      <th>9</th>\n",
       "      <td>a974fc428825ed071281302d6976f59bfa95fe7e</td>\n",
       "      <td>Sway (Album Version)</td>\n",
       "      <td>0.022359</td>\n",
       "      <td>10</td>\n",
       "    </tr>\n",
       "  </tbody>\n",
       "</table>\n",
       "</div>"
      ],
      "text/plain": [
       "                                    user_id  \\\n",
       "0  a974fc428825ed071281302d6976f59bfa95fe7e   \n",
       "1  a974fc428825ed071281302d6976f59bfa95fe7e   \n",
       "2  a974fc428825ed071281302d6976f59bfa95fe7e   \n",
       "3  a974fc428825ed071281302d6976f59bfa95fe7e   \n",
       "4  a974fc428825ed071281302d6976f59bfa95fe7e   \n",
       "5  a974fc428825ed071281302d6976f59bfa95fe7e   \n",
       "6  a974fc428825ed071281302d6976f59bfa95fe7e   \n",
       "7  a974fc428825ed071281302d6976f59bfa95fe7e   \n",
       "8  a974fc428825ed071281302d6976f59bfa95fe7e   \n",
       "9  a974fc428825ed071281302d6976f59bfa95fe7e   \n",
       "\n",
       "                                           song     score  rank  \n",
       "0  Put Your Head On My Shoulder (Album Version)  0.026334     1  \n",
       "1                         The Strength To Go On  0.025176     2  \n",
       "2              Come Fly With Me (Album Version)  0.024447     3  \n",
       "3                     Moondance (Album Version)  0.024118     4  \n",
       "4                                Kotov Syndrome  0.023311     5  \n",
       "5                                  Use Somebody  0.023104     6  \n",
       "6                         Lucky (Album Version)  0.022930     7  \n",
       "7                                       Secrets  0.022889     8  \n",
       "8                                        Clocks  0.022562     9  \n",
       "9                          Sway (Album Version)  0.022359    10  "
      ]
     },
     "execution_count": 52,
     "metadata": {},
     "output_type": "execute_result"
    }
   ],
   "source": [
    "#执行推荐\n",
    "is_model.recommend(user_id)"
   ]
  },
  {
   "cell_type": "code",
   "execution_count": null,
   "id": "74df60f3",
   "metadata": {},
   "outputs": [],
   "source": [
    "''''\n",
    "    def recommend(self, user):\n",
    "\n",
    "        #1、得到用户听过的所有歌\n",
    "        user_songs = self.get_user_items(user)    \n",
    "            \n",
    "        print(\"No. of unique songs for the user: %d\" % len(user_songs))\n",
    "        \n",
    "        #2、得到数据集中所有的歌\n",
    "        all_songs = self.get_all_items_train_data()\n",
    "        \n",
    "        print(\"no. of unique songs in the training set: %d\" % len(all_songs))\n",
    "         \n",
    "        #3、构建矩阵\n",
    "        #len(user_songs) X len(songs)\n",
    "        cooccurence_matrix = self.construct_cooccurence_matrix(user_songs, all_songs)\n",
    "        \n",
    "        #4、用交并集计算\n",
    "        df_recommendations = self.generate_top_recommendations(user, cooccurence_matrix, all_songs, user_songs)\n",
    "                \n",
    "        return df_recommendations"
   ]
  },
  {
   "cell_type": "code",
   "execution_count": null,
   "id": "c33f47cd",
   "metadata": {},
   "outputs": [],
   "source": []
  },
  {
   "cell_type": "code",
   "execution_count": null,
   "id": "ad1a19e5",
   "metadata": {},
   "outputs": [],
   "source": []
  },
  {
   "cell_type": "code",
   "execution_count": null,
   "id": "dab30a5e",
   "metadata": {},
   "outputs": [],
   "source": []
  },
  {
   "cell_type": "code",
   "execution_count": null,
   "id": "e11a5acd",
   "metadata": {},
   "outputs": [],
   "source": []
  },
  {
   "cell_type": "code",
   "execution_count": null,
   "id": "5876aa65",
   "metadata": {},
   "outputs": [],
   "source": []
  },
  {
   "cell_type": "code",
   "execution_count": null,
   "id": "bd39aa3a",
   "metadata": {},
   "outputs": [],
   "source": []
  },
  {
   "cell_type": "code",
   "execution_count": null,
   "id": "160fb968",
   "metadata": {},
   "outputs": [],
   "source": []
  },
  {
   "cell_type": "code",
   "execution_count": null,
   "id": "436d5d6c",
   "metadata": {},
   "outputs": [],
   "source": []
  },
  {
   "cell_type": "code",
   "execution_count": null,
   "id": "5deb6280",
   "metadata": {},
   "outputs": [],
   "source": []
  },
  {
   "cell_type": "code",
   "execution_count": null,
   "id": "694f068a",
   "metadata": {},
   "outputs": [],
   "source": []
  },
  {
   "cell_type": "code",
   "execution_count": null,
   "id": "8bb0a424",
   "metadata": {},
   "outputs": [],
   "source": []
  },
  {
   "cell_type": "code",
   "execution_count": null,
   "id": "33d06d5f",
   "metadata": {},
   "outputs": [],
   "source": []
  }
 ],
 "metadata": {
  "kernelspec": {
   "display_name": "Python 3 (ipykernel)",
   "language": "python",
   "name": "python3"
  },
  "language_info": {
   "codemirror_mode": {
    "name": "ipython",
    "version": 3
   },
   "file_extension": ".py",
   "mimetype": "text/x-python",
   "name": "python",
   "nbconvert_exporter": "python",
   "pygments_lexer": "ipython3",
   "version": "3.10.9"
  }
 },
 "nbformat": 4,
 "nbformat_minor": 5
}
